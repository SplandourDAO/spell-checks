{
 "cells": [
  {
   "cell_type": "code",
   "execution_count": 5,
   "id": "dfcdc60d",
   "metadata": {
    "pycharm": {
     "name": "#%%\n"
    }
   },
   "outputs": [],
   "source": [
    "import pandas as pd\n",
    "import json\n",
    "import requests"
   ]
  },
  {
   "cell_type": "markdown",
   "source": [
    "### Step 1 Get coinlist from coinpaprika API"
   ],
   "metadata": {
    "collapsed": false,
    "pycharm": {
     "name": "#%% md\n"
    }
   }
  },
  {
   "cell_type": "code",
   "execution_count": 6,
   "id": "826ea5ff",
   "metadata": {
    "pycharm": {
     "name": "#%%\n"
    }
   },
   "outputs": [],
   "source": [
    "response = requests.get('https://api.coinpaprika.com/v1/coins/')"
   ]
  },
  {
   "cell_type": "code",
   "execution_count": 7,
   "outputs": [],
   "source": [
    "json_data = json.loads(response.text)"
   ],
   "metadata": {
    "collapsed": false,
    "pycharm": {
     "name": "#%%\n"
    }
   }
  },
  {
   "cell_type": "code",
   "execution_count": 14,
   "outputs": [],
   "source": [
    "df_coins = pd.DataFrame(json_data)"
   ],
   "metadata": {
    "collapsed": false,
    "pycharm": {
     "name": "#%%\n"
    }
   }
  },
  {
   "cell_type": "code",
   "execution_count": 15,
   "outputs": [
    {
     "data": {
      "text/plain": "                 id          name symbol  rank  is_new  is_active   type\n0       btc-bitcoin       Bitcoin    BTC     1   False       True   coin\n1      eth-ethereum      Ethereum    ETH     2   False       True   coin\n2       usdt-tether        Tether   USDT     3   False       True  token\n3     usdc-usd-coin      USD Coin   USDC     4   False       True  token\n4  bnb-binance-coin  Binance Coin    BNB     5   False       True   coin\n5  busd-binance-usd   Binance USD   BUSD     6   False       True  token\n6           xrp-xrp           XRP    XRP     7   False       True   coin\n7     doge-dogecoin      Dogecoin   DOGE     8   False       True   coin\n8       ada-cardano       Cardano    ADA     9   False       True   coin\n9           hex-hex           HEX    HEX    10   False       True  token",
      "text/html": "<div>\n<style scoped>\n    .dataframe tbody tr th:only-of-type {\n        vertical-align: middle;\n    }\n\n    .dataframe tbody tr th {\n        vertical-align: top;\n    }\n\n    .dataframe thead th {\n        text-align: right;\n    }\n</style>\n<table border=\"1\" class=\"dataframe\">\n  <thead>\n    <tr style=\"text-align: right;\">\n      <th></th>\n      <th>id</th>\n      <th>name</th>\n      <th>symbol</th>\n      <th>rank</th>\n      <th>is_new</th>\n      <th>is_active</th>\n      <th>type</th>\n    </tr>\n  </thead>\n  <tbody>\n    <tr>\n      <th>0</th>\n      <td>btc-bitcoin</td>\n      <td>Bitcoin</td>\n      <td>BTC</td>\n      <td>1</td>\n      <td>False</td>\n      <td>True</td>\n      <td>coin</td>\n    </tr>\n    <tr>\n      <th>1</th>\n      <td>eth-ethereum</td>\n      <td>Ethereum</td>\n      <td>ETH</td>\n      <td>2</td>\n      <td>False</td>\n      <td>True</td>\n      <td>coin</td>\n    </tr>\n    <tr>\n      <th>2</th>\n      <td>usdt-tether</td>\n      <td>Tether</td>\n      <td>USDT</td>\n      <td>3</td>\n      <td>False</td>\n      <td>True</td>\n      <td>token</td>\n    </tr>\n    <tr>\n      <th>3</th>\n      <td>usdc-usd-coin</td>\n      <td>USD Coin</td>\n      <td>USDC</td>\n      <td>4</td>\n      <td>False</td>\n      <td>True</td>\n      <td>token</td>\n    </tr>\n    <tr>\n      <th>4</th>\n      <td>bnb-binance-coin</td>\n      <td>Binance Coin</td>\n      <td>BNB</td>\n      <td>5</td>\n      <td>False</td>\n      <td>True</td>\n      <td>coin</td>\n    </tr>\n    <tr>\n      <th>5</th>\n      <td>busd-binance-usd</td>\n      <td>Binance USD</td>\n      <td>BUSD</td>\n      <td>6</td>\n      <td>False</td>\n      <td>True</td>\n      <td>token</td>\n    </tr>\n    <tr>\n      <th>6</th>\n      <td>xrp-xrp</td>\n      <td>XRP</td>\n      <td>XRP</td>\n      <td>7</td>\n      <td>False</td>\n      <td>True</td>\n      <td>coin</td>\n    </tr>\n    <tr>\n      <th>7</th>\n      <td>doge-dogecoin</td>\n      <td>Dogecoin</td>\n      <td>DOGE</td>\n      <td>8</td>\n      <td>False</td>\n      <td>True</td>\n      <td>coin</td>\n    </tr>\n    <tr>\n      <th>8</th>\n      <td>ada-cardano</td>\n      <td>Cardano</td>\n      <td>ADA</td>\n      <td>9</td>\n      <td>False</td>\n      <td>True</td>\n      <td>coin</td>\n    </tr>\n    <tr>\n      <th>9</th>\n      <td>hex-hex</td>\n      <td>HEX</td>\n      <td>HEX</td>\n      <td>10</td>\n      <td>False</td>\n      <td>True</td>\n      <td>token</td>\n    </tr>\n  </tbody>\n</table>\n</div>"
     },
     "execution_count": 15,
     "metadata": {},
     "output_type": "execute_result"
    }
   ],
   "source": [
    "df_coins.head(10)"
   ],
   "metadata": {
    "collapsed": false,
    "pycharm": {
     "name": "#%%\n"
    }
   }
  },
  {
   "cell_type": "markdown",
   "source": [
    "### Step 2 Load the user-adding coinlist for checking"
   ],
   "metadata": {
    "collapsed": false,
    "pycharm": {
     "name": "#%% md\n"
    }
   }
  },
  {
   "cell_type": "code",
   "execution_count": 16,
   "outputs": [],
   "source": [
    "# Paste tokens from PR2279\n",
    "# https://github.com/duneanalytics/spellbook/pull/2279/files\n",
    "tokens_pasted = [\n",
    "    (\"air-aircoin\", \"bnb\" ,\"AIR\", \"0xd8a2ae43fd061d24acd538e3866ffc2c05151b53\", 18),\n",
    "    (\"eternal-cryptomines-eternal\", \"bnb\", \"ETERNAL\", \"0xd44fd09d74cd13838f137b590497595d6b3feea4\", 18),\n",
    "    (\"hero-metahero\", \"bnb\", \"HERO\", \"0xd40bedb44c081d2935eeba6ef5a3c8a31a1bbe13\", 18),\n",
    "    (\"milo-milo-inu\", \"bnb\", \"MILO\", \"0xd9de2b1973e57dc9dba90c35d6cd940ae4a3cbe1\", 9),\n",
    "    (\"fsv-filesystemvideo\", \"bnb\", \"FSV\", \"0xe9c7a827a4ba133b338b844c19241c864e95d75f\", 6),\n",
    "    (\"msc-monster-slayer-cash\", \"bnb\", \"MSC\", \"0x8C784C49097Dcc637b93232e15810D53871992BF\", 18),\n",
    "    (\"dome-everdome\", \"bnb\", \"DOME\", \"0x475bfaa1848591ae0e6ab69600f48d828f61a80e\", 18),\n",
    "    (\"sea-sharkshakesea\", \"bnb\", \"SEA\", \"0x26193c7fa4354ae49ec53ea2cebc513dc39a10aa\", 18),\n",
    "    (\"xps-x-parallel-space\", \"bnb\", \"XPS\", \"0x8e9b87cad37610d60120a1f48aa1036e24a3831a\", 18),\n",
    "    (\"gst-gunstar-metaverse\", \"bnb\", \"GST\", \"0x4a2c860cec6471b9f5f5a336eb4f38bb21683c98\", 18),\n",
    "    (\"bsw-biswap\", \"bnb\", \"BSW\", \"0x965f527d9159dce6288a2219db51fc6eef120dd1\", 18),\n",
    "    (\"mines-of-dalarnia-dar\",\"bnb\", \"DAR\", \"0x23ce9e926048273ef83be0a3a8ba9cb6d45cd978\", 6),\n",
    "    (\"chr-chroma\", \"bnb\", \"CHR\", \"0xf9cec8d50f6c8ad3fb6dccec577e05aa32b224fe\",6),\n",
    "    (\"fgd-freedom-god-dao\", \"bnb\", \"FGD\", \"0x0566b9a8ffb8908682796751eed00722da967be0\", 18),\n",
    "    (\"twt-trust-wallet-token\",\"bnb\", \"TWT\", \"0x4b0f1812e5df2a09796481ff14017e6005508003\", 18),\n",
    "    (\"soca-socaverse\", \"bnb\", \"SOCA\" , \"0x6598463d6cbe4b51e9977437bf1200df4c45286c\", 9),\n",
    "    (\"bfg-betfury\", \"bnb\" ,\"BFG\" ,\"0xbb46693ebbea1ac2070e59b4d043b47e2e095f86\" ,18),\n",
    "    (\"avax-avalanche\" ,\"bnb\" ,\"AVAX\" ,\"0x1ce0c2827e2ef14d5c4f29a091d735a204794041\" ,18),\n",
    "    (\"ipad-infinity-pad\" ,\"bnb\" ,\"IPAD\" ,\"0xf07dfc2ad28ab5b09e8602418d2873fcb95e1744\" ,18),\n",
    "    (\"gal-galxe\" ,\"bnb\" ,\"GAL\" ,\"0xe4cc45bb5dbda06db6183e8bf016569f40497aa5\" ,18),\n",
    "    (\"raca-radio-caca\",\"bnb\" ,\"RACA\" ,\"0x12bb890508c125661e03b09ec06e404bc9289040\" ,18),\n",
    "    (\"doge-dogecoin\",\"bnb\" ,\"DOGE\" ,\"0xba2ae424d960c26247dd6c32edc70b295c744c43\" ,8),\n",
    "    (\"cow-coinwind-token\",\"bnb\" ,\"COW\" ,\"0x422e3af98bc1de5a1838be31a56f75db4ad43730\" ,18),\n",
    "    (\"time-time\" ,\"bnb\" ,\"TIME\" ,\"0x26619fa1d4c957c58096bbbeca6588dcfb12e109\" ,18),\n",
    "    (\"fuse-fuse-token-on-bsc\" ,\"bnb\" ,\"FUSE\" ,\"0x5857c96dae9cf8511b08cb07f85753c472d36ea3\" ,18),\n",
    "    (\"dxct-dnaxcat\" ,\"bnb\" ,\"DXCT\" ,\"0x5b1baec64af6dc54e6e04349315919129a6d3c23\" ,18),\n",
    "    (\"sfo-starfish-os\" ,\"bnb\" ,\"SFO\" ,\"0xc544d8ab2b5ed395b96e3ec87462801eca579ae1\" ,18),\n",
    "    (\"baby-babyswap\" ,\"bnb\" ,\"BABY\" ,\"0x53e562b9b7e5e94b81f10e96ee70ad06df3d2657\" ,18),\n",
    "    (\"hotcross-hot-cross\" ,\"bnb\" ,\"HOTCROSS\" ,\"0x4fa7163e153419e0e1064e418dd7a99314ed27b6\" ,18),\n",
    "    (\"tpad-trustpad\" ,\"bnb\" ,\"TPAD\" ,\"0xadcfc6bf853a0a8ad7f9ff4244140d10cf01363c\" ,9),\n",
    "    (\"sol-solana\" ,\"bnb\" ,\"SOL\" ,\"0x570a5d26f7765ecb712c0924e4de545b89fd43df\" ,18),\n",
    "    (\"trx-tron\" ,\"bnb\" ,\"TRX\" ,\"0xCE7de646e7208a4Ef112cb6ed5038FA6cC6b12e3\" ,18),\n",
    "    (\"sfex-safex\" ,\"bnb\" ,\"SFEX\" ,\"0x5392ff4a9bd006dc272c1855af6640e17cc5ec0b\" ,18),\n",
    "    (\"sss-starsharks\" ,\"bnb\" ,\"SSS\" ,\"0xc3028fbc1742a16a5d69de1b334cbce28f5d7eb3\" ,18)    ,\n",
    "    (\"sfp-safepal-token\", \"bnb\" ,\"SFP\" ,\"0xd41fdb03ba84762dd66a0af1a6c8540ff1ba5dfb\" ,18),\n",
    "    (\"ssg-surviving-soldiers\",\"bnb\" ,\"SSG\" ,\"0xa0c8c80ed6b7f09f885e826386440b2349f0da7e\" ,18),\n",
    "    (\"bnx-binaryx\" ,\"bnb\" ,\"BNX\" ,\"0x8c851d1a123ff703bd1f9dabe631b69902df5f97\" ,18),\n",
    "    (\"elephant-elephant-money\" ,\"bnb\" ,\"ELEPHANT\" ,\"0xe283d0e3b8c102badf5e8166b73e02d96d92f688\" ,9),\n",
    "    (\"fist-fisttoken\",\"bnb\" ,\"FIST\" ,\"0xc9882def23bc42d53895b8361d0b1edc7570bc6a\" ,6),\n",
    "    (\"usdd-usdd\" ,\"bnb\" ,\"USDD\" ,\"0xd17479997f34dd9156deef8f95a52d81d265be9c\" ,18),\n",
    "    (\"alpaca-alpaca-finance\",\"bnb\" ,\"ALPACA\" ,\"0x8f0528ce5ef7b51152a59745befdd91d97091d2f\" ,18),\n",
    "    (\"ppp-playposeidon-nft\" ,\"bnb\" ,\"PPP\" ,\"0xce355300b9d7909f577640a3fb179cf911a23fbb\" ,18),\n",
    "    (\"wirtual-wirtual\",\"bnb\" ,\"WIRTUAL\" ,\"0xa19d3f4219e2ed6dc1cb595db20f70b8b6866734\" ,18),\n",
    "    (\"ape-apecoin\", \"bnb\" ,\"APE\" ,\"0x0b079b33b6e72311c6be245f9f660cc385029fc3\",18),\n",
    "    (\"metis-metis-token\",\"bnb\" ,\"Metis\" ,\"0xe552fb52a4f19e44ef5a967632dbc320b0820639\" ,18)\n",
    "]"
   ],
   "metadata": {
    "collapsed": false,
    "pycharm": {
     "name": "#%%\n"
    }
   }
  },
  {
   "cell_type": "code",
   "execution_count": 19,
   "outputs": [
    {
     "data": {
      "text/plain": "                      token_id blockchain   symbol  \\\n0                  air-aircoin        bnb      AIR   \n1  eternal-cryptomines-eternal        bnb  ETERNAL   \n2                hero-metahero        bnb     HERO   \n3                milo-milo-inu        bnb     MILO   \n4          fsv-filesystemvideo        bnb      FSV   \n5      msc-monster-slayer-cash        bnb      MSC   \n6                dome-everdome        bnb     DOME   \n7            sea-sharkshakesea        bnb      SEA   \n8         xps-x-parallel-space        bnb      XPS   \n9        gst-gunstar-metaverse        bnb      GST   \n\n                             contract_address  decimals  \n0  0xd8a2ae43fd061d24acd538e3866ffc2c05151b53        18  \n1  0xd44fd09d74cd13838f137b590497595d6b3feea4        18  \n2  0xd40bedb44c081d2935eeba6ef5a3c8a31a1bbe13        18  \n3  0xd9de2b1973e57dc9dba90c35d6cd940ae4a3cbe1         9  \n4  0xe9c7a827a4ba133b338b844c19241c864e95d75f         6  \n5  0x8C784C49097Dcc637b93232e15810D53871992BF        18  \n6  0x475bfaa1848591ae0e6ab69600f48d828f61a80e        18  \n7  0x26193c7fa4354ae49ec53ea2cebc513dc39a10aa        18  \n8  0x8e9b87cad37610d60120a1f48aa1036e24a3831a        18  \n9  0x4a2c860cec6471b9f5f5a336eb4f38bb21683c98        18  ",
      "text/html": "<div>\n<style scoped>\n    .dataframe tbody tr th:only-of-type {\n        vertical-align: middle;\n    }\n\n    .dataframe tbody tr th {\n        vertical-align: top;\n    }\n\n    .dataframe thead th {\n        text-align: right;\n    }\n</style>\n<table border=\"1\" class=\"dataframe\">\n  <thead>\n    <tr style=\"text-align: right;\">\n      <th></th>\n      <th>token_id</th>\n      <th>blockchain</th>\n      <th>symbol</th>\n      <th>contract_address</th>\n      <th>decimals</th>\n    </tr>\n  </thead>\n  <tbody>\n    <tr>\n      <th>0</th>\n      <td>air-aircoin</td>\n      <td>bnb</td>\n      <td>AIR</td>\n      <td>0xd8a2ae43fd061d24acd538e3866ffc2c05151b53</td>\n      <td>18</td>\n    </tr>\n    <tr>\n      <th>1</th>\n      <td>eternal-cryptomines-eternal</td>\n      <td>bnb</td>\n      <td>ETERNAL</td>\n      <td>0xd44fd09d74cd13838f137b590497595d6b3feea4</td>\n      <td>18</td>\n    </tr>\n    <tr>\n      <th>2</th>\n      <td>hero-metahero</td>\n      <td>bnb</td>\n      <td>HERO</td>\n      <td>0xd40bedb44c081d2935eeba6ef5a3c8a31a1bbe13</td>\n      <td>18</td>\n    </tr>\n    <tr>\n      <th>3</th>\n      <td>milo-milo-inu</td>\n      <td>bnb</td>\n      <td>MILO</td>\n      <td>0xd9de2b1973e57dc9dba90c35d6cd940ae4a3cbe1</td>\n      <td>9</td>\n    </tr>\n    <tr>\n      <th>4</th>\n      <td>fsv-filesystemvideo</td>\n      <td>bnb</td>\n      <td>FSV</td>\n      <td>0xe9c7a827a4ba133b338b844c19241c864e95d75f</td>\n      <td>6</td>\n    </tr>\n    <tr>\n      <th>5</th>\n      <td>msc-monster-slayer-cash</td>\n      <td>bnb</td>\n      <td>MSC</td>\n      <td>0x8C784C49097Dcc637b93232e15810D53871992BF</td>\n      <td>18</td>\n    </tr>\n    <tr>\n      <th>6</th>\n      <td>dome-everdome</td>\n      <td>bnb</td>\n      <td>DOME</td>\n      <td>0x475bfaa1848591ae0e6ab69600f48d828f61a80e</td>\n      <td>18</td>\n    </tr>\n    <tr>\n      <th>7</th>\n      <td>sea-sharkshakesea</td>\n      <td>bnb</td>\n      <td>SEA</td>\n      <td>0x26193c7fa4354ae49ec53ea2cebc513dc39a10aa</td>\n      <td>18</td>\n    </tr>\n    <tr>\n      <th>8</th>\n      <td>xps-x-parallel-space</td>\n      <td>bnb</td>\n      <td>XPS</td>\n      <td>0x8e9b87cad37610d60120a1f48aa1036e24a3831a</td>\n      <td>18</td>\n    </tr>\n    <tr>\n      <th>9</th>\n      <td>gst-gunstar-metaverse</td>\n      <td>bnb</td>\n      <td>GST</td>\n      <td>0x4a2c860cec6471b9f5f5a336eb4f38bb21683c98</td>\n      <td>18</td>\n    </tr>\n  </tbody>\n</table>\n</div>"
     },
     "execution_count": 19,
     "metadata": {},
     "output_type": "execute_result"
    }
   ],
   "source": [
    "checking_token_df = pd.DataFrame(tokens_pasted, columns=['token_id', 'blockchain', 'symbol', 'contract_address', 'decimals'])\n",
    "checking_token_df.head(10)"
   ],
   "metadata": {
    "collapsed": false,
    "pycharm": {
     "name": "#%%\n"
    }
   }
  },
  {
   "cell_type": "markdown",
   "source": [
    "### Step 3 Check token_id exists in coinlist"
   ],
   "metadata": {
    "collapsed": false,
    "pycharm": {
     "name": "#%% md\n"
    }
   }
  },
  {
   "cell_type": "code",
   "execution_count": 39,
   "outputs": [
    {
     "data": {
      "text/plain": "0     True\n1     True\n2     True\n3     True\n4     True\n5     True\n6     True\n7     True\n8     True\n9     True\n10    True\n11    True\n12    True\n13    True\n14    True\n15    True\n16    True\n17    True\n18    True\n19    True\n20    True\n21    True\n22    True\n23    True\n24    True\n25    True\n26    True\n27    True\n28    True\n29    True\n30    True\n31    True\n32    True\n33    True\n34    True\n35    True\n36    True\n37    True\n38    True\n39    True\n40    True\n41    True\n42    True\n43    True\n44    True\nName: token_id, dtype: bool"
     },
     "execution_count": 39,
     "metadata": {},
     "output_type": "execute_result"
    }
   ],
   "source": [
    "checking_token_df['token_id'].isin(df_coins.id)"
   ],
   "metadata": {
    "collapsed": false,
    "pycharm": {
     "name": "#%%\n"
    }
   }
  },
  {
   "cell_type": "code",
   "execution_count": 42,
   "outputs": [
    {
     "name": "stdout",
     "output_type": "stream",
     "text": [
      "True\n"
     ]
    }
   ],
   "source": [
    "print(checking_token_df['token_id'].isin(df_coins.id).all())"
   ],
   "metadata": {
    "collapsed": false,
    "pycharm": {
     "name": "#%%\n"
    }
   }
  },
  {
   "cell_type": "code",
   "execution_count": 43,
   "outputs": [
    {
     "data": {
      "text/plain": "id           45\nname         45\nsymbol       45\nrank         45\nis_new       45\nis_active    45\ntype         45\ndtype: int64"
     },
     "execution_count": 43,
     "metadata": {},
     "output_type": "execute_result"
    }
   ],
   "source": [
    "df_coins[df_coins.id.isin(checking_token_df.token_id)].count()"
   ],
   "metadata": {
    "collapsed": false,
    "pycharm": {
     "name": "#%%\n"
    }
   }
  },
  {
   "cell_type": "code",
   "execution_count": 45,
   "outputs": [
    {
     "data": {
      "text/plain": "                                id                 name    symbol  rank  \\\n7                    doge-dogecoin             Dogecoin      DOGE     8   \n17                        trx-tron                 TRON       TRX    18   \n18                      sol-solana               Solana       SOL    19   \n20                  avax-avalanche            Avalanche      AVAX    21   \n37                     ape-apecoin              ApeCoin       APE    38   \n41          twt-trust-wallet-token   Trust Wallet Token       TWT    42   \n60                       usdd-usdd                 USDD      USDD    61   \n157                    bnx-binaryx              BinaryX       BNX   158   \n235                     bsw-biswap               Biswap       BSW   236   \n254                raca-radio-caca           Radio Caca      RACA   255   \n345          alpaca-alpaca-finance       Alpaca Finance    ALPACA   346   \n408          mines-of-dalarnia-dar    Mines of Dalarnia       DAR   409   \n466                  hero-metahero             Metahero      HERO   467   \n556                  baby-babyswap             BabySwap      BABY   557   \n1278         gst-gunstar-metaverse    Gunstar Metaverse       GST  1279   \n1837             ipad-infinity-pad         Infinity Pad      IPAD  1838   \n1982               wirtual-wirtual              WIRTUAL   WIRTUAL  1983   \n2032           fsv-filesystemvideo      FileSystemVideo       FSV  2032   \n2114                   air-aircoin              AirCoin       AIR  2114   \n2183        fuse-fuse-token-on-bsc    Fuse Token on BSC      FUSE  2184   \n2564                 milo-milo-inu             Milo Inu      MILO  2568   \n2642           fgd-freedom-god-dao      Freedom God DAO       FGD  2648   \n2854                    chr-chroma               Chroma       CHR  2856   \n2914                   bfg-betfury              Betfury       BFG  2917   \n3069        ssg-surviving-soldiers   Surviving Soldiers       SSG  3075   \n3085          xps-x-parallel-space     X-PARALLEL SPACE       XPS  3091   \n3168       elephant-elephant-money       Elephant Money  ELEPHANT  3174   \n3360               sfo-starfish-os          StarFish OS       SFO  3364   \n3594                fist-fisttoken            FistToken      FIST  3599   \n4021                 dome-everdome             Everdome      DOME  4023   \n4184   eternal-cryptomines-eternal  CryptoMines Eternal   ETERNAL  4186   \n4231             metis-metis-token          Metis Token     METIS  4232   \n4331                     gal-galxe                Galxe       GAL  4333   \n4433                     time-time                 TIME      TIME  4434   \n4555             sfp-safepal-token        SafePal Token       SFP  4557   \n4610                sss-starsharks           StarSharks       SSS  4611   \n4816             sea-sharkshakesea        SharkShakeSea       SEA  4816   \n4895                  dxct-dnaxcat              DNAxCAT      DXCT  4896   \n5516            cow-coinwind-token       CoinWind Token       COW  5517   \n5911          ppp-playposeidon-nft     PlayPoseidon NFT       PPP  5912   \n5923       msc-monster-slayer-cash  Monster Slayer Cash       MSC  5924   \n7856                 tpad-trustpad             TrustPad      TPAD     0   \n8553            hotcross-hot-cross            Hot Cross  HOTCROSS     0   \n9583                    sfex-safex                SafeX      SFEX     0   \n26668               soca-socaverse            Socaverse      SOCA     0   \n\n       is_new  is_active   type  \n7       False       True   coin  \n17      False       True   coin  \n18      False       True  token  \n20      False       True   coin  \n37      False       True  token  \n41      False       True  token  \n60      False       True  token  \n157     False       True  token  \n235     False       True  token  \n254     False       True  token  \n345     False       True  token  \n408     False       True  token  \n466     False       True  token  \n556     False       True  token  \n1278    False       True  token  \n1837    False       True  token  \n1982    False       True  token  \n2032    False       True  token  \n2114    False       True  token  \n2183    False       True  token  \n2564    False       True  token  \n2642    False       True  token  \n2854    False       True  token  \n2914    False       True  token  \n3069    False       True  token  \n3085    False       True  token  \n3168    False       True  token  \n3360    False       True  token  \n3594    False       True  token  \n4021    False       True  token  \n4184    False       True  token  \n4231    False       True  token  \n4331    False       True  token  \n4433    False       True  token  \n4555    False       True  token  \n4610    False       True  token  \n4816    False       True  token  \n4895    False       True  token  \n5516    False       True  token  \n5911    False       True  token  \n5923    False       True  token  \n7856    False      False  token  \n8553    False      False  token  \n9583    False      False  token  \n26668   False      False  token  ",
      "text/html": "<div>\n<style scoped>\n    .dataframe tbody tr th:only-of-type {\n        vertical-align: middle;\n    }\n\n    .dataframe tbody tr th {\n        vertical-align: top;\n    }\n\n    .dataframe thead th {\n        text-align: right;\n    }\n</style>\n<table border=\"1\" class=\"dataframe\">\n  <thead>\n    <tr style=\"text-align: right;\">\n      <th></th>\n      <th>id</th>\n      <th>name</th>\n      <th>symbol</th>\n      <th>rank</th>\n      <th>is_new</th>\n      <th>is_active</th>\n      <th>type</th>\n    </tr>\n  </thead>\n  <tbody>\n    <tr>\n      <th>7</th>\n      <td>doge-dogecoin</td>\n      <td>Dogecoin</td>\n      <td>DOGE</td>\n      <td>8</td>\n      <td>False</td>\n      <td>True</td>\n      <td>coin</td>\n    </tr>\n    <tr>\n      <th>17</th>\n      <td>trx-tron</td>\n      <td>TRON</td>\n      <td>TRX</td>\n      <td>18</td>\n      <td>False</td>\n      <td>True</td>\n      <td>coin</td>\n    </tr>\n    <tr>\n      <th>18</th>\n      <td>sol-solana</td>\n      <td>Solana</td>\n      <td>SOL</td>\n      <td>19</td>\n      <td>False</td>\n      <td>True</td>\n      <td>token</td>\n    </tr>\n    <tr>\n      <th>20</th>\n      <td>avax-avalanche</td>\n      <td>Avalanche</td>\n      <td>AVAX</td>\n      <td>21</td>\n      <td>False</td>\n      <td>True</td>\n      <td>coin</td>\n    </tr>\n    <tr>\n      <th>37</th>\n      <td>ape-apecoin</td>\n      <td>ApeCoin</td>\n      <td>APE</td>\n      <td>38</td>\n      <td>False</td>\n      <td>True</td>\n      <td>token</td>\n    </tr>\n    <tr>\n      <th>41</th>\n      <td>twt-trust-wallet-token</td>\n      <td>Trust Wallet Token</td>\n      <td>TWT</td>\n      <td>42</td>\n      <td>False</td>\n      <td>True</td>\n      <td>token</td>\n    </tr>\n    <tr>\n      <th>60</th>\n      <td>usdd-usdd</td>\n      <td>USDD</td>\n      <td>USDD</td>\n      <td>61</td>\n      <td>False</td>\n      <td>True</td>\n      <td>token</td>\n    </tr>\n    <tr>\n      <th>157</th>\n      <td>bnx-binaryx</td>\n      <td>BinaryX</td>\n      <td>BNX</td>\n      <td>158</td>\n      <td>False</td>\n      <td>True</td>\n      <td>token</td>\n    </tr>\n    <tr>\n      <th>235</th>\n      <td>bsw-biswap</td>\n      <td>Biswap</td>\n      <td>BSW</td>\n      <td>236</td>\n      <td>False</td>\n      <td>True</td>\n      <td>token</td>\n    </tr>\n    <tr>\n      <th>254</th>\n      <td>raca-radio-caca</td>\n      <td>Radio Caca</td>\n      <td>RACA</td>\n      <td>255</td>\n      <td>False</td>\n      <td>True</td>\n      <td>token</td>\n    </tr>\n    <tr>\n      <th>345</th>\n      <td>alpaca-alpaca-finance</td>\n      <td>Alpaca Finance</td>\n      <td>ALPACA</td>\n      <td>346</td>\n      <td>False</td>\n      <td>True</td>\n      <td>token</td>\n    </tr>\n    <tr>\n      <th>408</th>\n      <td>mines-of-dalarnia-dar</td>\n      <td>Mines of Dalarnia</td>\n      <td>DAR</td>\n      <td>409</td>\n      <td>False</td>\n      <td>True</td>\n      <td>token</td>\n    </tr>\n    <tr>\n      <th>466</th>\n      <td>hero-metahero</td>\n      <td>Metahero</td>\n      <td>HERO</td>\n      <td>467</td>\n      <td>False</td>\n      <td>True</td>\n      <td>token</td>\n    </tr>\n    <tr>\n      <th>556</th>\n      <td>baby-babyswap</td>\n      <td>BabySwap</td>\n      <td>BABY</td>\n      <td>557</td>\n      <td>False</td>\n      <td>True</td>\n      <td>token</td>\n    </tr>\n    <tr>\n      <th>1278</th>\n      <td>gst-gunstar-metaverse</td>\n      <td>Gunstar Metaverse</td>\n      <td>GST</td>\n      <td>1279</td>\n      <td>False</td>\n      <td>True</td>\n      <td>token</td>\n    </tr>\n    <tr>\n      <th>1837</th>\n      <td>ipad-infinity-pad</td>\n      <td>Infinity Pad</td>\n      <td>IPAD</td>\n      <td>1838</td>\n      <td>False</td>\n      <td>True</td>\n      <td>token</td>\n    </tr>\n    <tr>\n      <th>1982</th>\n      <td>wirtual-wirtual</td>\n      <td>WIRTUAL</td>\n      <td>WIRTUAL</td>\n      <td>1983</td>\n      <td>False</td>\n      <td>True</td>\n      <td>token</td>\n    </tr>\n    <tr>\n      <th>2032</th>\n      <td>fsv-filesystemvideo</td>\n      <td>FileSystemVideo</td>\n      <td>FSV</td>\n      <td>2032</td>\n      <td>False</td>\n      <td>True</td>\n      <td>token</td>\n    </tr>\n    <tr>\n      <th>2114</th>\n      <td>air-aircoin</td>\n      <td>AirCoin</td>\n      <td>AIR</td>\n      <td>2114</td>\n      <td>False</td>\n      <td>True</td>\n      <td>token</td>\n    </tr>\n    <tr>\n      <th>2183</th>\n      <td>fuse-fuse-token-on-bsc</td>\n      <td>Fuse Token on BSC</td>\n      <td>FUSE</td>\n      <td>2184</td>\n      <td>False</td>\n      <td>True</td>\n      <td>token</td>\n    </tr>\n    <tr>\n      <th>2564</th>\n      <td>milo-milo-inu</td>\n      <td>Milo Inu</td>\n      <td>MILO</td>\n      <td>2568</td>\n      <td>False</td>\n      <td>True</td>\n      <td>token</td>\n    </tr>\n    <tr>\n      <th>2642</th>\n      <td>fgd-freedom-god-dao</td>\n      <td>Freedom God DAO</td>\n      <td>FGD</td>\n      <td>2648</td>\n      <td>False</td>\n      <td>True</td>\n      <td>token</td>\n    </tr>\n    <tr>\n      <th>2854</th>\n      <td>chr-chroma</td>\n      <td>Chroma</td>\n      <td>CHR</td>\n      <td>2856</td>\n      <td>False</td>\n      <td>True</td>\n      <td>token</td>\n    </tr>\n    <tr>\n      <th>2914</th>\n      <td>bfg-betfury</td>\n      <td>Betfury</td>\n      <td>BFG</td>\n      <td>2917</td>\n      <td>False</td>\n      <td>True</td>\n      <td>token</td>\n    </tr>\n    <tr>\n      <th>3069</th>\n      <td>ssg-surviving-soldiers</td>\n      <td>Surviving Soldiers</td>\n      <td>SSG</td>\n      <td>3075</td>\n      <td>False</td>\n      <td>True</td>\n      <td>token</td>\n    </tr>\n    <tr>\n      <th>3085</th>\n      <td>xps-x-parallel-space</td>\n      <td>X-PARALLEL SPACE</td>\n      <td>XPS</td>\n      <td>3091</td>\n      <td>False</td>\n      <td>True</td>\n      <td>token</td>\n    </tr>\n    <tr>\n      <th>3168</th>\n      <td>elephant-elephant-money</td>\n      <td>Elephant Money</td>\n      <td>ELEPHANT</td>\n      <td>3174</td>\n      <td>False</td>\n      <td>True</td>\n      <td>token</td>\n    </tr>\n    <tr>\n      <th>3360</th>\n      <td>sfo-starfish-os</td>\n      <td>StarFish OS</td>\n      <td>SFO</td>\n      <td>3364</td>\n      <td>False</td>\n      <td>True</td>\n      <td>token</td>\n    </tr>\n    <tr>\n      <th>3594</th>\n      <td>fist-fisttoken</td>\n      <td>FistToken</td>\n      <td>FIST</td>\n      <td>3599</td>\n      <td>False</td>\n      <td>True</td>\n      <td>token</td>\n    </tr>\n    <tr>\n      <th>4021</th>\n      <td>dome-everdome</td>\n      <td>Everdome</td>\n      <td>DOME</td>\n      <td>4023</td>\n      <td>False</td>\n      <td>True</td>\n      <td>token</td>\n    </tr>\n    <tr>\n      <th>4184</th>\n      <td>eternal-cryptomines-eternal</td>\n      <td>CryptoMines Eternal</td>\n      <td>ETERNAL</td>\n      <td>4186</td>\n      <td>False</td>\n      <td>True</td>\n      <td>token</td>\n    </tr>\n    <tr>\n      <th>4231</th>\n      <td>metis-metis-token</td>\n      <td>Metis Token</td>\n      <td>METIS</td>\n      <td>4232</td>\n      <td>False</td>\n      <td>True</td>\n      <td>token</td>\n    </tr>\n    <tr>\n      <th>4331</th>\n      <td>gal-galxe</td>\n      <td>Galxe</td>\n      <td>GAL</td>\n      <td>4333</td>\n      <td>False</td>\n      <td>True</td>\n      <td>token</td>\n    </tr>\n    <tr>\n      <th>4433</th>\n      <td>time-time</td>\n      <td>TIME</td>\n      <td>TIME</td>\n      <td>4434</td>\n      <td>False</td>\n      <td>True</td>\n      <td>token</td>\n    </tr>\n    <tr>\n      <th>4555</th>\n      <td>sfp-safepal-token</td>\n      <td>SafePal Token</td>\n      <td>SFP</td>\n      <td>4557</td>\n      <td>False</td>\n      <td>True</td>\n      <td>token</td>\n    </tr>\n    <tr>\n      <th>4610</th>\n      <td>sss-starsharks</td>\n      <td>StarSharks</td>\n      <td>SSS</td>\n      <td>4611</td>\n      <td>False</td>\n      <td>True</td>\n      <td>token</td>\n    </tr>\n    <tr>\n      <th>4816</th>\n      <td>sea-sharkshakesea</td>\n      <td>SharkShakeSea</td>\n      <td>SEA</td>\n      <td>4816</td>\n      <td>False</td>\n      <td>True</td>\n      <td>token</td>\n    </tr>\n    <tr>\n      <th>4895</th>\n      <td>dxct-dnaxcat</td>\n      <td>DNAxCAT</td>\n      <td>DXCT</td>\n      <td>4896</td>\n      <td>False</td>\n      <td>True</td>\n      <td>token</td>\n    </tr>\n    <tr>\n      <th>5516</th>\n      <td>cow-coinwind-token</td>\n      <td>CoinWind Token</td>\n      <td>COW</td>\n      <td>5517</td>\n      <td>False</td>\n      <td>True</td>\n      <td>token</td>\n    </tr>\n    <tr>\n      <th>5911</th>\n      <td>ppp-playposeidon-nft</td>\n      <td>PlayPoseidon NFT</td>\n      <td>PPP</td>\n      <td>5912</td>\n      <td>False</td>\n      <td>True</td>\n      <td>token</td>\n    </tr>\n    <tr>\n      <th>5923</th>\n      <td>msc-monster-slayer-cash</td>\n      <td>Monster Slayer Cash</td>\n      <td>MSC</td>\n      <td>5924</td>\n      <td>False</td>\n      <td>True</td>\n      <td>token</td>\n    </tr>\n    <tr>\n      <th>7856</th>\n      <td>tpad-trustpad</td>\n      <td>TrustPad</td>\n      <td>TPAD</td>\n      <td>0</td>\n      <td>False</td>\n      <td>False</td>\n      <td>token</td>\n    </tr>\n    <tr>\n      <th>8553</th>\n      <td>hotcross-hot-cross</td>\n      <td>Hot Cross</td>\n      <td>HOTCROSS</td>\n      <td>0</td>\n      <td>False</td>\n      <td>False</td>\n      <td>token</td>\n    </tr>\n    <tr>\n      <th>9583</th>\n      <td>sfex-safex</td>\n      <td>SafeX</td>\n      <td>SFEX</td>\n      <td>0</td>\n      <td>False</td>\n      <td>False</td>\n      <td>token</td>\n    </tr>\n    <tr>\n      <th>26668</th>\n      <td>soca-socaverse</td>\n      <td>Socaverse</td>\n      <td>SOCA</td>\n      <td>0</td>\n      <td>False</td>\n      <td>False</td>\n      <td>token</td>\n    </tr>\n  </tbody>\n</table>\n</div>"
     },
     "execution_count": 45,
     "metadata": {},
     "output_type": "execute_result"
    }
   ],
   "source": [
    "sub_coinlist = df_coins[df_coins.id.isin(checking_token_df.token_id)]\n",
    "sub_coinlist"
   ],
   "metadata": {
    "collapsed": false,
    "pycharm": {
     "name": "#%%\n"
    }
   }
  },
  {
   "cell_type": "code",
   "execution_count": 99,
   "outputs": [
    {
     "data": {
      "text/plain": "                       id       name    symbol  rank  is_new  is_active   type\n7856        tpad-trustpad   TrustPad      TPAD     0   False      False  token\n8553   hotcross-hot-cross  Hot Cross  HOTCROSS     0   False      False  token\n9583           sfex-safex      SafeX      SFEX     0   False      False  token\n26668      soca-socaverse  Socaverse      SOCA     0   False      False  token",
      "text/html": "<div>\n<style scoped>\n    .dataframe tbody tr th:only-of-type {\n        vertical-align: middle;\n    }\n\n    .dataframe tbody tr th {\n        vertical-align: top;\n    }\n\n    .dataframe thead th {\n        text-align: right;\n    }\n</style>\n<table border=\"1\" class=\"dataframe\">\n  <thead>\n    <tr style=\"text-align: right;\">\n      <th></th>\n      <th>id</th>\n      <th>name</th>\n      <th>symbol</th>\n      <th>rank</th>\n      <th>is_new</th>\n      <th>is_active</th>\n      <th>type</th>\n    </tr>\n  </thead>\n  <tbody>\n    <tr>\n      <th>7856</th>\n      <td>tpad-trustpad</td>\n      <td>TrustPad</td>\n      <td>TPAD</td>\n      <td>0</td>\n      <td>False</td>\n      <td>False</td>\n      <td>token</td>\n    </tr>\n    <tr>\n      <th>8553</th>\n      <td>hotcross-hot-cross</td>\n      <td>Hot Cross</td>\n      <td>HOTCROSS</td>\n      <td>0</td>\n      <td>False</td>\n      <td>False</td>\n      <td>token</td>\n    </tr>\n    <tr>\n      <th>9583</th>\n      <td>sfex-safex</td>\n      <td>SafeX</td>\n      <td>SFEX</td>\n      <td>0</td>\n      <td>False</td>\n      <td>False</td>\n      <td>token</td>\n    </tr>\n    <tr>\n      <th>26668</th>\n      <td>soca-socaverse</td>\n      <td>Socaverse</td>\n      <td>SOCA</td>\n      <td>0</td>\n      <td>False</td>\n      <td>False</td>\n      <td>token</td>\n    </tr>\n  </tbody>\n</table>\n</div>"
     },
     "execution_count": 99,
     "metadata": {},
     "output_type": "execute_result"
    }
   ],
   "source": [
    "# Those addresses are inactive\n",
    "sub_coinlist.loc[sub_coinlist['is_active'] == False]"
   ],
   "metadata": {
    "collapsed": false,
    "pycharm": {
     "name": "#%%\n"
    }
   }
  },
  {
   "cell_type": "markdown",
   "source": [
    "### Step 4 Check the is all active in the coinlist"
   ],
   "metadata": {
    "collapsed": false,
    "pycharm": {
     "name": "#%% md\n"
    }
   }
  },
  {
   "cell_type": "code",
   "execution_count": 57,
   "outputs": [],
   "source": [
    "def get_api_address(id:str) -> str:\n",
    "    \"\"\"\n",
    "    Get a corresponding contract address from coinpaprika v1 api by token-id\n",
    "    :param id: token-id in coinpaprika coinlist\n",
    "    :return: contract address or NONE(for unavailable token)\n",
    "    \"\"\"\n",
    "    _api_url = 'https://api.coinpaprika.com/v1/coins/' + id\n",
    "    _response = requests.get(_api_url)\n",
    "    _json_data = json.loads(_response.text)\n",
    "    if \"contract\" in _json_data.keys():\n",
    "        return _json_data['contract']\n",
    "    else:\n",
    "        return None\n"
   ],
   "metadata": {
    "collapsed": false,
    "pycharm": {
     "name": "#%%\n"
    }
   }
  },
  {
   "cell_type": "code",
   "execution_count": 58,
   "outputs": [
    {
     "name": "stdout",
     "output_type": "stream",
     "text": [
      "None\n",
      "0xa0c8c80ed6b7f09f885e826386440b2349f0da7e\n"
     ]
    }
   ],
   "source": [
    "# test\n",
    "print(get_api_address('doge-dogecoin')) # None\n",
    "print(get_api_address('ssg-surviving-soldiers')) # 0xa0c8c80ed6b7f09f885e826386440b2349f0da7e"
   ],
   "metadata": {
    "collapsed": false,
    "pycharm": {
     "name": "#%%\n"
    }
   }
  },
  {
   "cell_type": "code",
   "execution_count": 66,
   "outputs": [],
   "source": [
    "import time # for sleep\n",
    "import random\n",
    "seconds = random.uniform(1, 3)"
   ],
   "metadata": {
    "collapsed": false,
    "pycharm": {
     "name": "#%%\n"
    }
   }
  },
  {
   "cell_type": "code",
   "execution_count": 69,
   "outputs": [
    {
     "data": {
      "text/plain": "3.6341307682643387"
     },
     "execution_count": 69,
     "metadata": {},
     "output_type": "execute_result"
    }
   ],
   "source": [
    "seconds"
   ],
   "metadata": {
    "collapsed": false,
    "pycharm": {
     "name": "#%%\n"
    }
   }
  },
  {
   "cell_type": "code",
   "execution_count": 70,
   "outputs": [],
   "source": [
    "def sleep_and_get_api_address(id:str) -> str:\n",
    "    time.sleep(seconds)\n",
    "    return get_api_address(id)"
   ],
   "metadata": {
    "collapsed": false,
    "pycharm": {
     "name": "#%%\n"
    }
   }
  },
  {
   "cell_type": "code",
   "execution_count": 77,
   "outputs": [
    {
     "name": "stdout",
     "output_type": "stream",
     "text": [
      "doge-dogecoin None\n",
      "trx-tron None\n",
      "sol-solana None\n",
      "avax-avalanche None\n",
      "ape-apecoin 0x4d224452801aced8b2f0aebe155379bb5d594381\n",
      "twt-trust-wallet-token HZNpqL7RT9gxf9eWoWsWzC5DfjzQ41XTQgEA7p3VzaaD\n",
      "usdd-usdd 0x0c10bf8fcb7bf5412187a595ab97a3609160b5c6\n",
      "bnx-binaryx 0x8c851d1a123ff703bd1f9dabe631b69902df5f97\n",
      "bsw-biswap 0x965f527d9159dce6288a2219db51fc6eef120dd1\n",
      "raca-radio-caca 0x12bb890508c125661e03b09ec06e404bc9289040\n",
      "alpaca-alpaca-finance 0x8f0528ce5ef7b51152a59745befdd91d97091d2f\n",
      "mines-of-dalarnia-dar 0x23ce9e926048273ef83be0a3a8ba9cb6d45cd978\n",
      "hero-metahero 0xD40bEDb44C081D2935eebA6eF5a3c8A31A1bBE13\n",
      "baby-babyswap 0x53e562b9b7e5e94b81f10e96ee70ad06df3d2657\n",
      "gst-gunstar-metaverse None\n",
      "ipad-infinity-pad 0xf07dfc2ad28ab5b09e8602418d2873fcb95e1744\n",
      "wirtual-wirtual 0xa19d3f4219e2ed6dc1cb595db20f70b8b6866734\n",
      "fsv-filesystemvideo 0xe9c7a827a4ba133b338b844c19241c864e95d75f\n",
      "air-aircoin 0xd8a2ae43fd061d24acd538e3866ffc2c05151b53\n",
      "fuse-fuse-token-on-bsc 0x5857c96dae9cf8511b08cb07f85753c472d36ea3\n",
      "milo-milo-inu 0xd9de2b1973e57dc9dba90c35d6cd940ae4a3cbe1\n",
      "fgd-freedom-god-dao 0x0566b9a8ffb8908682796751eed00722da967be0\n",
      "chr-chroma 0xf9cec8d50f6c8ad3fb6dccec577e05aa32b224fe\n",
      "bfg-betfury 0xbb46693ebbea1ac2070e59b4d043b47e2e095f86\n",
      "ssg-surviving-soldiers 0xa0c8c80ed6b7f09f885e826386440b2349f0da7e\n",
      "xps-x-parallel-space 0x8e9b87cad37610d60120a1f48aa1036e24a3831a\n",
      "elephant-elephant-money 0xe283d0e3b8c102badf5e8166b73e02d96d92f688\n",
      "sfo-starfish-os 0xc544d8ab2b5ed395b96e3ec87462801eca579ae1\n",
      "fist-fisttoken 0xc9882def23bc42d53895b8361d0b1edc7570bc6a\n",
      "dome-everdome 0x475bFaa1848591ae0E6aB69600f48d828f61a80E\n",
      "eternal-cryptomines-eternal 0xd44fd09d74cd13838f137b590497595d6b3feea4\n",
      "metis-metis-token 0x9e32b13ce7f2e80a01932b42553652e053d6ed8e\n",
      "gal-galxe 0x5faa989af96af85384b8a938c2ede4a7378d9875\n",
      "time-time 0x26619fa1d4c957c58096bbbeca6588dcfb12e109\n",
      "sfp-safepal-token 0xd41fdb03ba84762dd66a0af1a6c8540ff1ba5dfb\n",
      "sss-starsharks None\n",
      "sea-sharkshakesea 0x26193c7fa4354ae49ec53ea2cebc513dc39a10aa\n",
      "dxct-dnaxcat 0x5b1baec64af6dc54e6e04349315919129a6d3c23\n",
      "cow-coinwind-token 0x422e3af98bc1de5a1838be31a56f75db4ad43730\n",
      "ppp-playposeidon-nft 0xce355300b9d7909f577640a3fb179cf911a23fbb\n",
      "msc-monster-slayer-cash None\n",
      "tpad-trustpad 0xadcfc6bf853a0a8ad7f9ff4244140d10cf01363c\n",
      "hotcross-hot-cross 0x4fa7163e153419e0e1064e418dd7a99314ed27b6\n",
      "sfex-safex 0x5392Ff4a9BD006DC272C1855af6640e17Cc5ec0B\n",
      "soca-socaverse 0x57af121a8ddb1f9a8fafcf3229c92bf2856a8a29\n"
     ]
    }
   ],
   "source": [
    "coinlist_with_address = []\n",
    "for index, row in sub_coinlist.iterrows():\n",
    "    address = sleep_and_get_api_address(row.id)\n",
    "    print(row.id, address)\n",
    "    coinlist_with_address.append((row.id, address))"
   ],
   "metadata": {
    "collapsed": false,
    "pycharm": {
     "name": "#%%\n"
    }
   }
  },
  {
   "cell_type": "code",
   "execution_count": 78,
   "outputs": [],
   "source": [
    "api_result_address_df = pd.DataFrame(coinlist_with_address, columns=['token_id','address'])"
   ],
   "metadata": {
    "collapsed": false,
    "pycharm": {
     "name": "#%%\n"
    }
   }
  },
  {
   "cell_type": "code",
   "execution_count": 79,
   "outputs": [
    {
     "data": {
      "text/plain": "                       token_id                                       address\n0                 doge-dogecoin                                          None\n1                      trx-tron                                          None\n2                    sol-solana                                          None\n3                avax-avalanche                                          None\n4                   ape-apecoin    0x4d224452801aced8b2f0aebe155379bb5d594381\n5        twt-trust-wallet-token  HZNpqL7RT9gxf9eWoWsWzC5DfjzQ41XTQgEA7p3VzaaD\n6                     usdd-usdd    0x0c10bf8fcb7bf5412187a595ab97a3609160b5c6\n7                   bnx-binaryx    0x8c851d1a123ff703bd1f9dabe631b69902df5f97\n8                    bsw-biswap    0x965f527d9159dce6288a2219db51fc6eef120dd1\n9               raca-radio-caca    0x12bb890508c125661e03b09ec06e404bc9289040\n10        alpaca-alpaca-finance    0x8f0528ce5ef7b51152a59745befdd91d97091d2f\n11        mines-of-dalarnia-dar    0x23ce9e926048273ef83be0a3a8ba9cb6d45cd978\n12                hero-metahero    0xD40bEDb44C081D2935eebA6eF5a3c8A31A1bBE13\n13                baby-babyswap    0x53e562b9b7e5e94b81f10e96ee70ad06df3d2657\n14        gst-gunstar-metaverse                                          None\n15            ipad-infinity-pad    0xf07dfc2ad28ab5b09e8602418d2873fcb95e1744\n16              wirtual-wirtual    0xa19d3f4219e2ed6dc1cb595db20f70b8b6866734\n17          fsv-filesystemvideo    0xe9c7a827a4ba133b338b844c19241c864e95d75f\n18                  air-aircoin    0xd8a2ae43fd061d24acd538e3866ffc2c05151b53\n19       fuse-fuse-token-on-bsc    0x5857c96dae9cf8511b08cb07f85753c472d36ea3\n20                milo-milo-inu    0xd9de2b1973e57dc9dba90c35d6cd940ae4a3cbe1\n21          fgd-freedom-god-dao    0x0566b9a8ffb8908682796751eed00722da967be0\n22                   chr-chroma    0xf9cec8d50f6c8ad3fb6dccec577e05aa32b224fe\n23                  bfg-betfury    0xbb46693ebbea1ac2070e59b4d043b47e2e095f86\n24       ssg-surviving-soldiers    0xa0c8c80ed6b7f09f885e826386440b2349f0da7e\n25         xps-x-parallel-space    0x8e9b87cad37610d60120a1f48aa1036e24a3831a\n26      elephant-elephant-money    0xe283d0e3b8c102badf5e8166b73e02d96d92f688\n27              sfo-starfish-os    0xc544d8ab2b5ed395b96e3ec87462801eca579ae1\n28               fist-fisttoken    0xc9882def23bc42d53895b8361d0b1edc7570bc6a\n29                dome-everdome    0x475bFaa1848591ae0E6aB69600f48d828f61a80E\n30  eternal-cryptomines-eternal    0xd44fd09d74cd13838f137b590497595d6b3feea4\n31            metis-metis-token    0x9e32b13ce7f2e80a01932b42553652e053d6ed8e\n32                    gal-galxe    0x5faa989af96af85384b8a938c2ede4a7378d9875\n33                    time-time    0x26619fa1d4c957c58096bbbeca6588dcfb12e109\n34            sfp-safepal-token    0xd41fdb03ba84762dd66a0af1a6c8540ff1ba5dfb\n35               sss-starsharks                                          None\n36            sea-sharkshakesea    0x26193c7fa4354ae49ec53ea2cebc513dc39a10aa\n37                 dxct-dnaxcat    0x5b1baec64af6dc54e6e04349315919129a6d3c23\n38           cow-coinwind-token    0x422e3af98bc1de5a1838be31a56f75db4ad43730\n39         ppp-playposeidon-nft    0xce355300b9d7909f577640a3fb179cf911a23fbb\n40      msc-monster-slayer-cash                                          None\n41                tpad-trustpad    0xadcfc6bf853a0a8ad7f9ff4244140d10cf01363c\n42           hotcross-hot-cross    0x4fa7163e153419e0e1064e418dd7a99314ed27b6\n43                   sfex-safex    0x5392Ff4a9BD006DC272C1855af6640e17Cc5ec0B\n44               soca-socaverse    0x57af121a8ddb1f9a8fafcf3229c92bf2856a8a29",
      "text/html": "<div>\n<style scoped>\n    .dataframe tbody tr th:only-of-type {\n        vertical-align: middle;\n    }\n\n    .dataframe tbody tr th {\n        vertical-align: top;\n    }\n\n    .dataframe thead th {\n        text-align: right;\n    }\n</style>\n<table border=\"1\" class=\"dataframe\">\n  <thead>\n    <tr style=\"text-align: right;\">\n      <th></th>\n      <th>token_id</th>\n      <th>address</th>\n    </tr>\n  </thead>\n  <tbody>\n    <tr>\n      <th>0</th>\n      <td>doge-dogecoin</td>\n      <td>None</td>\n    </tr>\n    <tr>\n      <th>1</th>\n      <td>trx-tron</td>\n      <td>None</td>\n    </tr>\n    <tr>\n      <th>2</th>\n      <td>sol-solana</td>\n      <td>None</td>\n    </tr>\n    <tr>\n      <th>3</th>\n      <td>avax-avalanche</td>\n      <td>None</td>\n    </tr>\n    <tr>\n      <th>4</th>\n      <td>ape-apecoin</td>\n      <td>0x4d224452801aced8b2f0aebe155379bb5d594381</td>\n    </tr>\n    <tr>\n      <th>5</th>\n      <td>twt-trust-wallet-token</td>\n      <td>HZNpqL7RT9gxf9eWoWsWzC5DfjzQ41XTQgEA7p3VzaaD</td>\n    </tr>\n    <tr>\n      <th>6</th>\n      <td>usdd-usdd</td>\n      <td>0x0c10bf8fcb7bf5412187a595ab97a3609160b5c6</td>\n    </tr>\n    <tr>\n      <th>7</th>\n      <td>bnx-binaryx</td>\n      <td>0x8c851d1a123ff703bd1f9dabe631b69902df5f97</td>\n    </tr>\n    <tr>\n      <th>8</th>\n      <td>bsw-biswap</td>\n      <td>0x965f527d9159dce6288a2219db51fc6eef120dd1</td>\n    </tr>\n    <tr>\n      <th>9</th>\n      <td>raca-radio-caca</td>\n      <td>0x12bb890508c125661e03b09ec06e404bc9289040</td>\n    </tr>\n    <tr>\n      <th>10</th>\n      <td>alpaca-alpaca-finance</td>\n      <td>0x8f0528ce5ef7b51152a59745befdd91d97091d2f</td>\n    </tr>\n    <tr>\n      <th>11</th>\n      <td>mines-of-dalarnia-dar</td>\n      <td>0x23ce9e926048273ef83be0a3a8ba9cb6d45cd978</td>\n    </tr>\n    <tr>\n      <th>12</th>\n      <td>hero-metahero</td>\n      <td>0xD40bEDb44C081D2935eebA6eF5a3c8A31A1bBE13</td>\n    </tr>\n    <tr>\n      <th>13</th>\n      <td>baby-babyswap</td>\n      <td>0x53e562b9b7e5e94b81f10e96ee70ad06df3d2657</td>\n    </tr>\n    <tr>\n      <th>14</th>\n      <td>gst-gunstar-metaverse</td>\n      <td>None</td>\n    </tr>\n    <tr>\n      <th>15</th>\n      <td>ipad-infinity-pad</td>\n      <td>0xf07dfc2ad28ab5b09e8602418d2873fcb95e1744</td>\n    </tr>\n    <tr>\n      <th>16</th>\n      <td>wirtual-wirtual</td>\n      <td>0xa19d3f4219e2ed6dc1cb595db20f70b8b6866734</td>\n    </tr>\n    <tr>\n      <th>17</th>\n      <td>fsv-filesystemvideo</td>\n      <td>0xe9c7a827a4ba133b338b844c19241c864e95d75f</td>\n    </tr>\n    <tr>\n      <th>18</th>\n      <td>air-aircoin</td>\n      <td>0xd8a2ae43fd061d24acd538e3866ffc2c05151b53</td>\n    </tr>\n    <tr>\n      <th>19</th>\n      <td>fuse-fuse-token-on-bsc</td>\n      <td>0x5857c96dae9cf8511b08cb07f85753c472d36ea3</td>\n    </tr>\n    <tr>\n      <th>20</th>\n      <td>milo-milo-inu</td>\n      <td>0xd9de2b1973e57dc9dba90c35d6cd940ae4a3cbe1</td>\n    </tr>\n    <tr>\n      <th>21</th>\n      <td>fgd-freedom-god-dao</td>\n      <td>0x0566b9a8ffb8908682796751eed00722da967be0</td>\n    </tr>\n    <tr>\n      <th>22</th>\n      <td>chr-chroma</td>\n      <td>0xf9cec8d50f6c8ad3fb6dccec577e05aa32b224fe</td>\n    </tr>\n    <tr>\n      <th>23</th>\n      <td>bfg-betfury</td>\n      <td>0xbb46693ebbea1ac2070e59b4d043b47e2e095f86</td>\n    </tr>\n    <tr>\n      <th>24</th>\n      <td>ssg-surviving-soldiers</td>\n      <td>0xa0c8c80ed6b7f09f885e826386440b2349f0da7e</td>\n    </tr>\n    <tr>\n      <th>25</th>\n      <td>xps-x-parallel-space</td>\n      <td>0x8e9b87cad37610d60120a1f48aa1036e24a3831a</td>\n    </tr>\n    <tr>\n      <th>26</th>\n      <td>elephant-elephant-money</td>\n      <td>0xe283d0e3b8c102badf5e8166b73e02d96d92f688</td>\n    </tr>\n    <tr>\n      <th>27</th>\n      <td>sfo-starfish-os</td>\n      <td>0xc544d8ab2b5ed395b96e3ec87462801eca579ae1</td>\n    </tr>\n    <tr>\n      <th>28</th>\n      <td>fist-fisttoken</td>\n      <td>0xc9882def23bc42d53895b8361d0b1edc7570bc6a</td>\n    </tr>\n    <tr>\n      <th>29</th>\n      <td>dome-everdome</td>\n      <td>0x475bFaa1848591ae0E6aB69600f48d828f61a80E</td>\n    </tr>\n    <tr>\n      <th>30</th>\n      <td>eternal-cryptomines-eternal</td>\n      <td>0xd44fd09d74cd13838f137b590497595d6b3feea4</td>\n    </tr>\n    <tr>\n      <th>31</th>\n      <td>metis-metis-token</td>\n      <td>0x9e32b13ce7f2e80a01932b42553652e053d6ed8e</td>\n    </tr>\n    <tr>\n      <th>32</th>\n      <td>gal-galxe</td>\n      <td>0x5faa989af96af85384b8a938c2ede4a7378d9875</td>\n    </tr>\n    <tr>\n      <th>33</th>\n      <td>time-time</td>\n      <td>0x26619fa1d4c957c58096bbbeca6588dcfb12e109</td>\n    </tr>\n    <tr>\n      <th>34</th>\n      <td>sfp-safepal-token</td>\n      <td>0xd41fdb03ba84762dd66a0af1a6c8540ff1ba5dfb</td>\n    </tr>\n    <tr>\n      <th>35</th>\n      <td>sss-starsharks</td>\n      <td>None</td>\n    </tr>\n    <tr>\n      <th>36</th>\n      <td>sea-sharkshakesea</td>\n      <td>0x26193c7fa4354ae49ec53ea2cebc513dc39a10aa</td>\n    </tr>\n    <tr>\n      <th>37</th>\n      <td>dxct-dnaxcat</td>\n      <td>0x5b1baec64af6dc54e6e04349315919129a6d3c23</td>\n    </tr>\n    <tr>\n      <th>38</th>\n      <td>cow-coinwind-token</td>\n      <td>0x422e3af98bc1de5a1838be31a56f75db4ad43730</td>\n    </tr>\n    <tr>\n      <th>39</th>\n      <td>ppp-playposeidon-nft</td>\n      <td>0xce355300b9d7909f577640a3fb179cf911a23fbb</td>\n    </tr>\n    <tr>\n      <th>40</th>\n      <td>msc-monster-slayer-cash</td>\n      <td>None</td>\n    </tr>\n    <tr>\n      <th>41</th>\n      <td>tpad-trustpad</td>\n      <td>0xadcfc6bf853a0a8ad7f9ff4244140d10cf01363c</td>\n    </tr>\n    <tr>\n      <th>42</th>\n      <td>hotcross-hot-cross</td>\n      <td>0x4fa7163e153419e0e1064e418dd7a99314ed27b6</td>\n    </tr>\n    <tr>\n      <th>43</th>\n      <td>sfex-safex</td>\n      <td>0x5392Ff4a9BD006DC272C1855af6640e17Cc5ec0B</td>\n    </tr>\n    <tr>\n      <th>44</th>\n      <td>soca-socaverse</td>\n      <td>0x57af121a8ddb1f9a8fafcf3229c92bf2856a8a29</td>\n    </tr>\n  </tbody>\n</table>\n</div>"
     },
     "execution_count": 79,
     "metadata": {},
     "output_type": "execute_result"
    }
   ],
   "source": [
    "api_result_address_df"
   ],
   "metadata": {
    "collapsed": false,
    "pycharm": {
     "name": "#%%\n"
    }
   }
  },
  {
   "cell_type": "code",
   "execution_count": 80,
   "outputs": [],
   "source": [
    "addr_check_df = pd.merge(api_result_address_df, checking_token_df, on='token_id', how='right')"
   ],
   "metadata": {
    "collapsed": false,
    "pycharm": {
     "name": "#%%\n"
    }
   }
  },
  {
   "cell_type": "code",
   "execution_count": 81,
   "outputs": [
    {
     "data": {
      "text/plain": "                      token_id                                     address  \\\n0                  air-aircoin  0xd8a2ae43fd061d24acd538e3866ffc2c05151b53   \n1  eternal-cryptomines-eternal  0xd44fd09d74cd13838f137b590497595d6b3feea4   \n2                hero-metahero  0xD40bEDb44C081D2935eebA6eF5a3c8A31A1bBE13   \n3                milo-milo-inu  0xd9de2b1973e57dc9dba90c35d6cd940ae4a3cbe1   \n4          fsv-filesystemvideo  0xe9c7a827a4ba133b338b844c19241c864e95d75f   \n5      msc-monster-slayer-cash                                        None   \n6                dome-everdome  0x475bFaa1848591ae0E6aB69600f48d828f61a80E   \n7            sea-sharkshakesea  0x26193c7fa4354ae49ec53ea2cebc513dc39a10aa   \n8         xps-x-parallel-space  0x8e9b87cad37610d60120a1f48aa1036e24a3831a   \n9        gst-gunstar-metaverse                                        None   \n\n  blockchain   symbol                            contract_address  decimals  \n0        bnb      AIR  0xd8a2ae43fd061d24acd538e3866ffc2c05151b53        18  \n1        bnb  ETERNAL  0xd44fd09d74cd13838f137b590497595d6b3feea4        18  \n2        bnb     HERO  0xd40bedb44c081d2935eeba6ef5a3c8a31a1bbe13        18  \n3        bnb     MILO  0xd9de2b1973e57dc9dba90c35d6cd940ae4a3cbe1         9  \n4        bnb      FSV  0xe9c7a827a4ba133b338b844c19241c864e95d75f         6  \n5        bnb      MSC  0x8C784C49097Dcc637b93232e15810D53871992BF        18  \n6        bnb     DOME  0x475bfaa1848591ae0e6ab69600f48d828f61a80e        18  \n7        bnb      SEA  0x26193c7fa4354ae49ec53ea2cebc513dc39a10aa        18  \n8        bnb      XPS  0x8e9b87cad37610d60120a1f48aa1036e24a3831a        18  \n9        bnb      GST  0x4a2c860cec6471b9f5f5a336eb4f38bb21683c98        18  ",
      "text/html": "<div>\n<style scoped>\n    .dataframe tbody tr th:only-of-type {\n        vertical-align: middle;\n    }\n\n    .dataframe tbody tr th {\n        vertical-align: top;\n    }\n\n    .dataframe thead th {\n        text-align: right;\n    }\n</style>\n<table border=\"1\" class=\"dataframe\">\n  <thead>\n    <tr style=\"text-align: right;\">\n      <th></th>\n      <th>token_id</th>\n      <th>address</th>\n      <th>blockchain</th>\n      <th>symbol</th>\n      <th>contract_address</th>\n      <th>decimals</th>\n    </tr>\n  </thead>\n  <tbody>\n    <tr>\n      <th>0</th>\n      <td>air-aircoin</td>\n      <td>0xd8a2ae43fd061d24acd538e3866ffc2c05151b53</td>\n      <td>bnb</td>\n      <td>AIR</td>\n      <td>0xd8a2ae43fd061d24acd538e3866ffc2c05151b53</td>\n      <td>18</td>\n    </tr>\n    <tr>\n      <th>1</th>\n      <td>eternal-cryptomines-eternal</td>\n      <td>0xd44fd09d74cd13838f137b590497595d6b3feea4</td>\n      <td>bnb</td>\n      <td>ETERNAL</td>\n      <td>0xd44fd09d74cd13838f137b590497595d6b3feea4</td>\n      <td>18</td>\n    </tr>\n    <tr>\n      <th>2</th>\n      <td>hero-metahero</td>\n      <td>0xD40bEDb44C081D2935eebA6eF5a3c8A31A1bBE13</td>\n      <td>bnb</td>\n      <td>HERO</td>\n      <td>0xd40bedb44c081d2935eeba6ef5a3c8a31a1bbe13</td>\n      <td>18</td>\n    </tr>\n    <tr>\n      <th>3</th>\n      <td>milo-milo-inu</td>\n      <td>0xd9de2b1973e57dc9dba90c35d6cd940ae4a3cbe1</td>\n      <td>bnb</td>\n      <td>MILO</td>\n      <td>0xd9de2b1973e57dc9dba90c35d6cd940ae4a3cbe1</td>\n      <td>9</td>\n    </tr>\n    <tr>\n      <th>4</th>\n      <td>fsv-filesystemvideo</td>\n      <td>0xe9c7a827a4ba133b338b844c19241c864e95d75f</td>\n      <td>bnb</td>\n      <td>FSV</td>\n      <td>0xe9c7a827a4ba133b338b844c19241c864e95d75f</td>\n      <td>6</td>\n    </tr>\n    <tr>\n      <th>5</th>\n      <td>msc-monster-slayer-cash</td>\n      <td>None</td>\n      <td>bnb</td>\n      <td>MSC</td>\n      <td>0x8C784C49097Dcc637b93232e15810D53871992BF</td>\n      <td>18</td>\n    </tr>\n    <tr>\n      <th>6</th>\n      <td>dome-everdome</td>\n      <td>0x475bFaa1848591ae0E6aB69600f48d828f61a80E</td>\n      <td>bnb</td>\n      <td>DOME</td>\n      <td>0x475bfaa1848591ae0e6ab69600f48d828f61a80e</td>\n      <td>18</td>\n    </tr>\n    <tr>\n      <th>7</th>\n      <td>sea-sharkshakesea</td>\n      <td>0x26193c7fa4354ae49ec53ea2cebc513dc39a10aa</td>\n      <td>bnb</td>\n      <td>SEA</td>\n      <td>0x26193c7fa4354ae49ec53ea2cebc513dc39a10aa</td>\n      <td>18</td>\n    </tr>\n    <tr>\n      <th>8</th>\n      <td>xps-x-parallel-space</td>\n      <td>0x8e9b87cad37610d60120a1f48aa1036e24a3831a</td>\n      <td>bnb</td>\n      <td>XPS</td>\n      <td>0x8e9b87cad37610d60120a1f48aa1036e24a3831a</td>\n      <td>18</td>\n    </tr>\n    <tr>\n      <th>9</th>\n      <td>gst-gunstar-metaverse</td>\n      <td>None</td>\n      <td>bnb</td>\n      <td>GST</td>\n      <td>0x4a2c860cec6471b9f5f5a336eb4f38bb21683c98</td>\n      <td>18</td>\n    </tr>\n  </tbody>\n</table>\n</div>"
     },
     "execution_count": 81,
     "metadata": {},
     "output_type": "execute_result"
    }
   ],
   "source": [
    "addr_check_df.head(10)"
   ],
   "metadata": {
    "collapsed": false,
    "pycharm": {
     "name": "#%%\n"
    }
   }
  },
  {
   "cell_type": "code",
   "execution_count": 89,
   "outputs": [],
   "source": [
    "def check_address(row) -> bool:\n",
    "    if row.address is None:\n",
    "        return False\n",
    "    return row.address.str.lower() == row.contract_address.str.lower()"
   ],
   "metadata": {
    "collapsed": false,
    "pycharm": {
     "name": "#%%\n"
    }
   }
  },
  {
   "cell_type": "code",
   "execution_count": 92,
   "outputs": [],
   "source": [
    "result_df = addr_check_df.assign(address_is_legal=check_address)"
   ],
   "metadata": {
    "collapsed": false,
    "pycharm": {
     "name": "#%%\n"
    }
   }
  },
  {
   "cell_type": "code",
   "execution_count": 98,
   "outputs": [
    {
     "data": {
      "text/plain": "                   token_id                                       address  \\\n5   msc-monster-slayer-cash                                          None   \n9     gst-gunstar-metaverse                                          None   \n14   twt-trust-wallet-token  HZNpqL7RT9gxf9eWoWsWzC5DfjzQ41XTQgEA7p3VzaaD   \n15           soca-socaverse    0x57af121a8ddb1f9a8fafcf3229c92bf2856a8a29   \n17           avax-avalanche                                          None   \n19                gal-galxe    0x5faa989af96af85384b8a938c2ede4a7378d9875   \n21            doge-dogecoin                                          None   \n30               sol-solana                                          None   \n31                 trx-tron                                          None   \n33           sss-starsharks                                          None   \n39                usdd-usdd    0x0c10bf8fcb7bf5412187a595ab97a3609160b5c6   \n43              ape-apecoin    0x4d224452801aced8b2f0aebe155379bb5d594381   \n44        metis-metis-token    0x9e32b13ce7f2e80a01932b42553652e053d6ed8e   \n\n   blockchain symbol                            contract_address  decimals  \\\n5         bnb    MSC  0x8C784C49097Dcc637b93232e15810D53871992BF        18   \n9         bnb    GST  0x4a2c860cec6471b9f5f5a336eb4f38bb21683c98        18   \n14        bnb    TWT  0x4b0f1812e5df2a09796481ff14017e6005508003        18   \n15        bnb   SOCA  0x6598463d6cbe4b51e9977437bf1200df4c45286c         9   \n17        bnb   AVAX  0x1ce0c2827e2ef14d5c4f29a091d735a204794041        18   \n19        bnb    GAL  0xe4cc45bb5dbda06db6183e8bf016569f40497aa5        18   \n21        bnb   DOGE  0xba2ae424d960c26247dd6c32edc70b295c744c43         8   \n30        bnb    SOL  0x570a5d26f7765ecb712c0924e4de545b89fd43df        18   \n31        bnb    TRX  0xCE7de646e7208a4Ef112cb6ed5038FA6cC6b12e3        18   \n33        bnb    SSS  0xc3028fbc1742a16a5d69de1b334cbce28f5d7eb3        18   \n39        bnb   USDD  0xd17479997f34dd9156deef8f95a52d81d265be9c        18   \n43        bnb    APE  0x0b079b33b6e72311c6be245f9f660cc385029fc3        18   \n44        bnb  Metis  0xe552fb52a4f19e44ef5a967632dbc320b0820639        18   \n\n    address_is_legal  \n5              False  \n9              False  \n14             False  \n15             False  \n17             False  \n19             False  \n21             False  \n30             False  \n31             False  \n33             False  \n39             False  \n43             False  \n44             False  ",
      "text/html": "<div>\n<style scoped>\n    .dataframe tbody tr th:only-of-type {\n        vertical-align: middle;\n    }\n\n    .dataframe tbody tr th {\n        vertical-align: top;\n    }\n\n    .dataframe thead th {\n        text-align: right;\n    }\n</style>\n<table border=\"1\" class=\"dataframe\">\n  <thead>\n    <tr style=\"text-align: right;\">\n      <th></th>\n      <th>token_id</th>\n      <th>address</th>\n      <th>blockchain</th>\n      <th>symbol</th>\n      <th>contract_address</th>\n      <th>decimals</th>\n      <th>address_is_legal</th>\n    </tr>\n  </thead>\n  <tbody>\n    <tr>\n      <th>5</th>\n      <td>msc-monster-slayer-cash</td>\n      <td>None</td>\n      <td>bnb</td>\n      <td>MSC</td>\n      <td>0x8C784C49097Dcc637b93232e15810D53871992BF</td>\n      <td>18</td>\n      <td>False</td>\n    </tr>\n    <tr>\n      <th>9</th>\n      <td>gst-gunstar-metaverse</td>\n      <td>None</td>\n      <td>bnb</td>\n      <td>GST</td>\n      <td>0x4a2c860cec6471b9f5f5a336eb4f38bb21683c98</td>\n      <td>18</td>\n      <td>False</td>\n    </tr>\n    <tr>\n      <th>14</th>\n      <td>twt-trust-wallet-token</td>\n      <td>HZNpqL7RT9gxf9eWoWsWzC5DfjzQ41XTQgEA7p3VzaaD</td>\n      <td>bnb</td>\n      <td>TWT</td>\n      <td>0x4b0f1812e5df2a09796481ff14017e6005508003</td>\n      <td>18</td>\n      <td>False</td>\n    </tr>\n    <tr>\n      <th>15</th>\n      <td>soca-socaverse</td>\n      <td>0x57af121a8ddb1f9a8fafcf3229c92bf2856a8a29</td>\n      <td>bnb</td>\n      <td>SOCA</td>\n      <td>0x6598463d6cbe4b51e9977437bf1200df4c45286c</td>\n      <td>9</td>\n      <td>False</td>\n    </tr>\n    <tr>\n      <th>17</th>\n      <td>avax-avalanche</td>\n      <td>None</td>\n      <td>bnb</td>\n      <td>AVAX</td>\n      <td>0x1ce0c2827e2ef14d5c4f29a091d735a204794041</td>\n      <td>18</td>\n      <td>False</td>\n    </tr>\n    <tr>\n      <th>19</th>\n      <td>gal-galxe</td>\n      <td>0x5faa989af96af85384b8a938c2ede4a7378d9875</td>\n      <td>bnb</td>\n      <td>GAL</td>\n      <td>0xe4cc45bb5dbda06db6183e8bf016569f40497aa5</td>\n      <td>18</td>\n      <td>False</td>\n    </tr>\n    <tr>\n      <th>21</th>\n      <td>doge-dogecoin</td>\n      <td>None</td>\n      <td>bnb</td>\n      <td>DOGE</td>\n      <td>0xba2ae424d960c26247dd6c32edc70b295c744c43</td>\n      <td>8</td>\n      <td>False</td>\n    </tr>\n    <tr>\n      <th>30</th>\n      <td>sol-solana</td>\n      <td>None</td>\n      <td>bnb</td>\n      <td>SOL</td>\n      <td>0x570a5d26f7765ecb712c0924e4de545b89fd43df</td>\n      <td>18</td>\n      <td>False</td>\n    </tr>\n    <tr>\n      <th>31</th>\n      <td>trx-tron</td>\n      <td>None</td>\n      <td>bnb</td>\n      <td>TRX</td>\n      <td>0xCE7de646e7208a4Ef112cb6ed5038FA6cC6b12e3</td>\n      <td>18</td>\n      <td>False</td>\n    </tr>\n    <tr>\n      <th>33</th>\n      <td>sss-starsharks</td>\n      <td>None</td>\n      <td>bnb</td>\n      <td>SSS</td>\n      <td>0xc3028fbc1742a16a5d69de1b334cbce28f5d7eb3</td>\n      <td>18</td>\n      <td>False</td>\n    </tr>\n    <tr>\n      <th>39</th>\n      <td>usdd-usdd</td>\n      <td>0x0c10bf8fcb7bf5412187a595ab97a3609160b5c6</td>\n      <td>bnb</td>\n      <td>USDD</td>\n      <td>0xd17479997f34dd9156deef8f95a52d81d265be9c</td>\n      <td>18</td>\n      <td>False</td>\n    </tr>\n    <tr>\n      <th>43</th>\n      <td>ape-apecoin</td>\n      <td>0x4d224452801aced8b2f0aebe155379bb5d594381</td>\n      <td>bnb</td>\n      <td>APE</td>\n      <td>0x0b079b33b6e72311c6be245f9f660cc385029fc3</td>\n      <td>18</td>\n      <td>False</td>\n    </tr>\n    <tr>\n      <th>44</th>\n      <td>metis-metis-token</td>\n      <td>0x9e32b13ce7f2e80a01932b42553652e053d6ed8e</td>\n      <td>bnb</td>\n      <td>Metis</td>\n      <td>0xe552fb52a4f19e44ef5a967632dbc320b0820639</td>\n      <td>18</td>\n      <td>False</td>\n    </tr>\n  </tbody>\n</table>\n</div>"
     },
     "execution_count": 98,
     "metadata": {},
     "output_type": "execute_result"
    }
   ],
   "source": [
    "result_df.loc[result_df['address_is_legal'] == False]"
   ],
   "metadata": {
    "collapsed": false,
    "pycharm": {
     "name": "#%%\n"
    }
   }
  },
  {
   "cell_type": "markdown",
   "source": [
    "### Conclusion"
   ],
   "metadata": {
    "collapsed": false,
    "pycharm": {
     "name": "#%% md\n"
    }
   }
  },
  {
   "cell_type": "code",
   "execution_count": 108,
   "outputs": [
    {
     "data": {
      "text/plain": "              token_id blockchain    symbol  \\\n15      soca-socaverse        bnb      SOCA   \n28  hotcross-hot-cross        bnb  HOTCROSS   \n29       tpad-trustpad        bnb      TPAD   \n32          sfex-safex        bnb      SFEX   \n\n                              contract_address  decimals  \n15  0x6598463d6cbe4b51e9977437bf1200df4c45286c         9  \n28  0x4fa7163e153419e0e1064e418dd7a99314ed27b6        18  \n29  0xadcfc6bf853a0a8ad7f9ff4244140d10cf01363c         9  \n32  0x5392ff4a9bd006dc272c1855af6640e17cc5ec0b        18  ",
      "text/html": "<div>\n<style scoped>\n    .dataframe tbody tr th:only-of-type {\n        vertical-align: middle;\n    }\n\n    .dataframe tbody tr th {\n        vertical-align: top;\n    }\n\n    .dataframe thead th {\n        text-align: right;\n    }\n</style>\n<table border=\"1\" class=\"dataframe\">\n  <thead>\n    <tr style=\"text-align: right;\">\n      <th></th>\n      <th>token_id</th>\n      <th>blockchain</th>\n      <th>symbol</th>\n      <th>contract_address</th>\n      <th>decimals</th>\n    </tr>\n  </thead>\n  <tbody>\n    <tr>\n      <th>15</th>\n      <td>soca-socaverse</td>\n      <td>bnb</td>\n      <td>SOCA</td>\n      <td>0x6598463d6cbe4b51e9977437bf1200df4c45286c</td>\n      <td>9</td>\n    </tr>\n    <tr>\n      <th>28</th>\n      <td>hotcross-hot-cross</td>\n      <td>bnb</td>\n      <td>HOTCROSS</td>\n      <td>0x4fa7163e153419e0e1064e418dd7a99314ed27b6</td>\n      <td>18</td>\n    </tr>\n    <tr>\n      <th>29</th>\n      <td>tpad-trustpad</td>\n      <td>bnb</td>\n      <td>TPAD</td>\n      <td>0xadcfc6bf853a0a8ad7f9ff4244140d10cf01363c</td>\n      <td>9</td>\n    </tr>\n    <tr>\n      <th>32</th>\n      <td>sfex-safex</td>\n      <td>bnb</td>\n      <td>SFEX</td>\n      <td>0x5392ff4a9bd006dc272c1855af6640e17cc5ec0b</td>\n      <td>18</td>\n    </tr>\n  </tbody>\n</table>\n</div>"
     },
     "execution_count": 108,
     "metadata": {},
     "output_type": "execute_result"
    }
   ],
   "source": [
    "# Inactive tokens\n",
    "# Those addresses are inactive\n",
    "err1 = checking_token_df[checking_token_df.token_id.isin(sub_coinlist.loc[sub_coinlist['is_active'] == False].id)]\n",
    "err1"
   ],
   "metadata": {
    "collapsed": false,
    "pycharm": {
     "name": "#%%\n"
    }
   }
  },
  {
   "cell_type": "code",
   "execution_count": 109,
   "outputs": [
    {
     "data": {
      "text/plain": "                   token_id blockchain symbol  \\\n5   msc-monster-slayer-cash        bnb    MSC   \n9     gst-gunstar-metaverse        bnb    GST   \n14   twt-trust-wallet-token        bnb    TWT   \n15           soca-socaverse        bnb   SOCA   \n17           avax-avalanche        bnb   AVAX   \n19                gal-galxe        bnb    GAL   \n21            doge-dogecoin        bnb   DOGE   \n30               sol-solana        bnb    SOL   \n31                 trx-tron        bnb    TRX   \n33           sss-starsharks        bnb    SSS   \n39                usdd-usdd        bnb   USDD   \n43              ape-apecoin        bnb    APE   \n44        metis-metis-token        bnb  Metis   \n\n                              contract_address  decimals  \n5   0x8C784C49097Dcc637b93232e15810D53871992BF        18  \n9   0x4a2c860cec6471b9f5f5a336eb4f38bb21683c98        18  \n14  0x4b0f1812e5df2a09796481ff14017e6005508003        18  \n15  0x6598463d6cbe4b51e9977437bf1200df4c45286c         9  \n17  0x1ce0c2827e2ef14d5c4f29a091d735a204794041        18  \n19  0xe4cc45bb5dbda06db6183e8bf016569f40497aa5        18  \n21  0xba2ae424d960c26247dd6c32edc70b295c744c43         8  \n30  0x570a5d26f7765ecb712c0924e4de545b89fd43df        18  \n31  0xCE7de646e7208a4Ef112cb6ed5038FA6cC6b12e3        18  \n33  0xc3028fbc1742a16a5d69de1b334cbce28f5d7eb3        18  \n39  0xd17479997f34dd9156deef8f95a52d81d265be9c        18  \n43  0x0b079b33b6e72311c6be245f9f660cc385029fc3        18  \n44  0xe552fb52a4f19e44ef5a967632dbc320b0820639        18  ",
      "text/html": "<div>\n<style scoped>\n    .dataframe tbody tr th:only-of-type {\n        vertical-align: middle;\n    }\n\n    .dataframe tbody tr th {\n        vertical-align: top;\n    }\n\n    .dataframe thead th {\n        text-align: right;\n    }\n</style>\n<table border=\"1\" class=\"dataframe\">\n  <thead>\n    <tr style=\"text-align: right;\">\n      <th></th>\n      <th>token_id</th>\n      <th>blockchain</th>\n      <th>symbol</th>\n      <th>contract_address</th>\n      <th>decimals</th>\n    </tr>\n  </thead>\n  <tbody>\n    <tr>\n      <th>5</th>\n      <td>msc-monster-slayer-cash</td>\n      <td>bnb</td>\n      <td>MSC</td>\n      <td>0x8C784C49097Dcc637b93232e15810D53871992BF</td>\n      <td>18</td>\n    </tr>\n    <tr>\n      <th>9</th>\n      <td>gst-gunstar-metaverse</td>\n      <td>bnb</td>\n      <td>GST</td>\n      <td>0x4a2c860cec6471b9f5f5a336eb4f38bb21683c98</td>\n      <td>18</td>\n    </tr>\n    <tr>\n      <th>14</th>\n      <td>twt-trust-wallet-token</td>\n      <td>bnb</td>\n      <td>TWT</td>\n      <td>0x4b0f1812e5df2a09796481ff14017e6005508003</td>\n      <td>18</td>\n    </tr>\n    <tr>\n      <th>15</th>\n      <td>soca-socaverse</td>\n      <td>bnb</td>\n      <td>SOCA</td>\n      <td>0x6598463d6cbe4b51e9977437bf1200df4c45286c</td>\n      <td>9</td>\n    </tr>\n    <tr>\n      <th>17</th>\n      <td>avax-avalanche</td>\n      <td>bnb</td>\n      <td>AVAX</td>\n      <td>0x1ce0c2827e2ef14d5c4f29a091d735a204794041</td>\n      <td>18</td>\n    </tr>\n    <tr>\n      <th>19</th>\n      <td>gal-galxe</td>\n      <td>bnb</td>\n      <td>GAL</td>\n      <td>0xe4cc45bb5dbda06db6183e8bf016569f40497aa5</td>\n      <td>18</td>\n    </tr>\n    <tr>\n      <th>21</th>\n      <td>doge-dogecoin</td>\n      <td>bnb</td>\n      <td>DOGE</td>\n      <td>0xba2ae424d960c26247dd6c32edc70b295c744c43</td>\n      <td>8</td>\n    </tr>\n    <tr>\n      <th>30</th>\n      <td>sol-solana</td>\n      <td>bnb</td>\n      <td>SOL</td>\n      <td>0x570a5d26f7765ecb712c0924e4de545b89fd43df</td>\n      <td>18</td>\n    </tr>\n    <tr>\n      <th>31</th>\n      <td>trx-tron</td>\n      <td>bnb</td>\n      <td>TRX</td>\n      <td>0xCE7de646e7208a4Ef112cb6ed5038FA6cC6b12e3</td>\n      <td>18</td>\n    </tr>\n    <tr>\n      <th>33</th>\n      <td>sss-starsharks</td>\n      <td>bnb</td>\n      <td>SSS</td>\n      <td>0xc3028fbc1742a16a5d69de1b334cbce28f5d7eb3</td>\n      <td>18</td>\n    </tr>\n    <tr>\n      <th>39</th>\n      <td>usdd-usdd</td>\n      <td>bnb</td>\n      <td>USDD</td>\n      <td>0xd17479997f34dd9156deef8f95a52d81d265be9c</td>\n      <td>18</td>\n    </tr>\n    <tr>\n      <th>43</th>\n      <td>ape-apecoin</td>\n      <td>bnb</td>\n      <td>APE</td>\n      <td>0x0b079b33b6e72311c6be245f9f660cc385029fc3</td>\n      <td>18</td>\n    </tr>\n    <tr>\n      <th>44</th>\n      <td>metis-metis-token</td>\n      <td>bnb</td>\n      <td>Metis</td>\n      <td>0xe552fb52a4f19e44ef5a967632dbc320b0820639</td>\n      <td>18</td>\n    </tr>\n  </tbody>\n</table>\n</div>"
     },
     "execution_count": 109,
     "metadata": {},
     "output_type": "execute_result"
    }
   ],
   "source": [
    "# Unmatched address tokens\n",
    "err2 = checking_token_df[checking_token_df.token_id.isin(result_df.loc[result_df['address_is_legal'] == False].token_id)]\n",
    "err2"
   ],
   "metadata": {
    "collapsed": false,
    "pycharm": {
     "name": "#%%\n"
    }
   }
  },
  {
   "cell_type": "code",
   "execution_count": 110,
   "outputs": [
    {
     "data": {
      "text/plain": "Empty DataFrame\nColumns: [token_id, blockchain, symbol, contract_address, decimals]\nIndex: []",
      "text/html": "<div>\n<style scoped>\n    .dataframe tbody tr th:only-of-type {\n        vertical-align: middle;\n    }\n\n    .dataframe tbody tr th {\n        vertical-align: top;\n    }\n\n    .dataframe thead th {\n        text-align: right;\n    }\n</style>\n<table border=\"1\" class=\"dataframe\">\n  <thead>\n    <tr style=\"text-align: right;\">\n      <th></th>\n      <th>token_id</th>\n      <th>blockchain</th>\n      <th>symbol</th>\n      <th>contract_address</th>\n      <th>decimals</th>\n    </tr>\n  </thead>\n  <tbody>\n  </tbody>\n</table>\n</div>"
     },
     "execution_count": 110,
     "metadata": {},
     "output_type": "execute_result"
    }
   ],
   "source": [
    "# Unmatched id tokens\n",
    "err3 = checking_token_df[~checking_token_df.token_id.isin(df_coins.id)]\n",
    "err3"
   ],
   "metadata": {
    "collapsed": false,
    "pycharm": {
     "name": "#%%\n"
    }
   }
  },
  {
   "cell_type": "code",
   "execution_count": 119,
   "outputs": [
    {
     "name": "stderr",
     "output_type": "stream",
     "text": [
      "/var/folders/mr/4vb7ztbn73b7xdk2l04tqprw0000gn/T/ipykernel_3092/2054194195.py:2: UserWarning: Boolean Series key will be reindexed to match DataFrame index.\n",
      "  checking_token_df[~checking_token_df.token_id.isin(err1.token_id)][~checking_token_df.token_id.isin(err2.token_id)][~checking_token_df.token_id.isin(err3.token_id)]\n"
     ]
    },
    {
     "data": {
      "text/plain": "                       token_id blockchain    symbol  \\\n0                   air-aircoin        bnb       AIR   \n1   eternal-cryptomines-eternal        bnb   ETERNAL   \n2                 hero-metahero        bnb      HERO   \n3                 milo-milo-inu        bnb      MILO   \n4           fsv-filesystemvideo        bnb       FSV   \n6                 dome-everdome        bnb      DOME   \n7             sea-sharkshakesea        bnb       SEA   \n8          xps-x-parallel-space        bnb       XPS   \n10                   bsw-biswap        bnb       BSW   \n11        mines-of-dalarnia-dar        bnb       DAR   \n12                   chr-chroma        bnb       CHR   \n13          fgd-freedom-god-dao        bnb       FGD   \n16                  bfg-betfury        bnb       BFG   \n18            ipad-infinity-pad        bnb      IPAD   \n20              raca-radio-caca        bnb      RACA   \n22           cow-coinwind-token        bnb       COW   \n23                    time-time        bnb      TIME   \n24       fuse-fuse-token-on-bsc        bnb      FUSE   \n25                 dxct-dnaxcat        bnb      DXCT   \n26              sfo-starfish-os        bnb       SFO   \n27                baby-babyswap        bnb      BABY   \n34            sfp-safepal-token        bnb       SFP   \n35       ssg-surviving-soldiers        bnb       SSG   \n36                  bnx-binaryx        bnb       BNX   \n37      elephant-elephant-money        bnb  ELEPHANT   \n38               fist-fisttoken        bnb      FIST   \n40        alpaca-alpaca-finance        bnb    ALPACA   \n41         ppp-playposeidon-nft        bnb       PPP   \n42              wirtual-wirtual        bnb   WIRTUAL   \n\n                              contract_address  decimals  \n0   0xd8a2ae43fd061d24acd538e3866ffc2c05151b53        18  \n1   0xd44fd09d74cd13838f137b590497595d6b3feea4        18  \n2   0xd40bedb44c081d2935eeba6ef5a3c8a31a1bbe13        18  \n3   0xd9de2b1973e57dc9dba90c35d6cd940ae4a3cbe1         9  \n4   0xe9c7a827a4ba133b338b844c19241c864e95d75f         6  \n6   0x475bfaa1848591ae0e6ab69600f48d828f61a80e        18  \n7   0x26193c7fa4354ae49ec53ea2cebc513dc39a10aa        18  \n8   0x8e9b87cad37610d60120a1f48aa1036e24a3831a        18  \n10  0x965f527d9159dce6288a2219db51fc6eef120dd1        18  \n11  0x23ce9e926048273ef83be0a3a8ba9cb6d45cd978         6  \n12  0xf9cec8d50f6c8ad3fb6dccec577e05aa32b224fe         6  \n13  0x0566b9a8ffb8908682796751eed00722da967be0        18  \n16  0xbb46693ebbea1ac2070e59b4d043b47e2e095f86        18  \n18  0xf07dfc2ad28ab5b09e8602418d2873fcb95e1744        18  \n20  0x12bb890508c125661e03b09ec06e404bc9289040        18  \n22  0x422e3af98bc1de5a1838be31a56f75db4ad43730        18  \n23  0x26619fa1d4c957c58096bbbeca6588dcfb12e109        18  \n24  0x5857c96dae9cf8511b08cb07f85753c472d36ea3        18  \n25  0x5b1baec64af6dc54e6e04349315919129a6d3c23        18  \n26  0xc544d8ab2b5ed395b96e3ec87462801eca579ae1        18  \n27  0x53e562b9b7e5e94b81f10e96ee70ad06df3d2657        18  \n34  0xd41fdb03ba84762dd66a0af1a6c8540ff1ba5dfb        18  \n35  0xa0c8c80ed6b7f09f885e826386440b2349f0da7e        18  \n36  0x8c851d1a123ff703bd1f9dabe631b69902df5f97        18  \n37  0xe283d0e3b8c102badf5e8166b73e02d96d92f688         9  \n38  0xc9882def23bc42d53895b8361d0b1edc7570bc6a         6  \n40  0x8f0528ce5ef7b51152a59745befdd91d97091d2f        18  \n41  0xce355300b9d7909f577640a3fb179cf911a23fbb        18  \n42  0xa19d3f4219e2ed6dc1cb595db20f70b8b6866734        18  ",
      "text/html": "<div>\n<style scoped>\n    .dataframe tbody tr th:only-of-type {\n        vertical-align: middle;\n    }\n\n    .dataframe tbody tr th {\n        vertical-align: top;\n    }\n\n    .dataframe thead th {\n        text-align: right;\n    }\n</style>\n<table border=\"1\" class=\"dataframe\">\n  <thead>\n    <tr style=\"text-align: right;\">\n      <th></th>\n      <th>token_id</th>\n      <th>blockchain</th>\n      <th>symbol</th>\n      <th>contract_address</th>\n      <th>decimals</th>\n    </tr>\n  </thead>\n  <tbody>\n    <tr>\n      <th>0</th>\n      <td>air-aircoin</td>\n      <td>bnb</td>\n      <td>AIR</td>\n      <td>0xd8a2ae43fd061d24acd538e3866ffc2c05151b53</td>\n      <td>18</td>\n    </tr>\n    <tr>\n      <th>1</th>\n      <td>eternal-cryptomines-eternal</td>\n      <td>bnb</td>\n      <td>ETERNAL</td>\n      <td>0xd44fd09d74cd13838f137b590497595d6b3feea4</td>\n      <td>18</td>\n    </tr>\n    <tr>\n      <th>2</th>\n      <td>hero-metahero</td>\n      <td>bnb</td>\n      <td>HERO</td>\n      <td>0xd40bedb44c081d2935eeba6ef5a3c8a31a1bbe13</td>\n      <td>18</td>\n    </tr>\n    <tr>\n      <th>3</th>\n      <td>milo-milo-inu</td>\n      <td>bnb</td>\n      <td>MILO</td>\n      <td>0xd9de2b1973e57dc9dba90c35d6cd940ae4a3cbe1</td>\n      <td>9</td>\n    </tr>\n    <tr>\n      <th>4</th>\n      <td>fsv-filesystemvideo</td>\n      <td>bnb</td>\n      <td>FSV</td>\n      <td>0xe9c7a827a4ba133b338b844c19241c864e95d75f</td>\n      <td>6</td>\n    </tr>\n    <tr>\n      <th>6</th>\n      <td>dome-everdome</td>\n      <td>bnb</td>\n      <td>DOME</td>\n      <td>0x475bfaa1848591ae0e6ab69600f48d828f61a80e</td>\n      <td>18</td>\n    </tr>\n    <tr>\n      <th>7</th>\n      <td>sea-sharkshakesea</td>\n      <td>bnb</td>\n      <td>SEA</td>\n      <td>0x26193c7fa4354ae49ec53ea2cebc513dc39a10aa</td>\n      <td>18</td>\n    </tr>\n    <tr>\n      <th>8</th>\n      <td>xps-x-parallel-space</td>\n      <td>bnb</td>\n      <td>XPS</td>\n      <td>0x8e9b87cad37610d60120a1f48aa1036e24a3831a</td>\n      <td>18</td>\n    </tr>\n    <tr>\n      <th>10</th>\n      <td>bsw-biswap</td>\n      <td>bnb</td>\n      <td>BSW</td>\n      <td>0x965f527d9159dce6288a2219db51fc6eef120dd1</td>\n      <td>18</td>\n    </tr>\n    <tr>\n      <th>11</th>\n      <td>mines-of-dalarnia-dar</td>\n      <td>bnb</td>\n      <td>DAR</td>\n      <td>0x23ce9e926048273ef83be0a3a8ba9cb6d45cd978</td>\n      <td>6</td>\n    </tr>\n    <tr>\n      <th>12</th>\n      <td>chr-chroma</td>\n      <td>bnb</td>\n      <td>CHR</td>\n      <td>0xf9cec8d50f6c8ad3fb6dccec577e05aa32b224fe</td>\n      <td>6</td>\n    </tr>\n    <tr>\n      <th>13</th>\n      <td>fgd-freedom-god-dao</td>\n      <td>bnb</td>\n      <td>FGD</td>\n      <td>0x0566b9a8ffb8908682796751eed00722da967be0</td>\n      <td>18</td>\n    </tr>\n    <tr>\n      <th>16</th>\n      <td>bfg-betfury</td>\n      <td>bnb</td>\n      <td>BFG</td>\n      <td>0xbb46693ebbea1ac2070e59b4d043b47e2e095f86</td>\n      <td>18</td>\n    </tr>\n    <tr>\n      <th>18</th>\n      <td>ipad-infinity-pad</td>\n      <td>bnb</td>\n      <td>IPAD</td>\n      <td>0xf07dfc2ad28ab5b09e8602418d2873fcb95e1744</td>\n      <td>18</td>\n    </tr>\n    <tr>\n      <th>20</th>\n      <td>raca-radio-caca</td>\n      <td>bnb</td>\n      <td>RACA</td>\n      <td>0x12bb890508c125661e03b09ec06e404bc9289040</td>\n      <td>18</td>\n    </tr>\n    <tr>\n      <th>22</th>\n      <td>cow-coinwind-token</td>\n      <td>bnb</td>\n      <td>COW</td>\n      <td>0x422e3af98bc1de5a1838be31a56f75db4ad43730</td>\n      <td>18</td>\n    </tr>\n    <tr>\n      <th>23</th>\n      <td>time-time</td>\n      <td>bnb</td>\n      <td>TIME</td>\n      <td>0x26619fa1d4c957c58096bbbeca6588dcfb12e109</td>\n      <td>18</td>\n    </tr>\n    <tr>\n      <th>24</th>\n      <td>fuse-fuse-token-on-bsc</td>\n      <td>bnb</td>\n      <td>FUSE</td>\n      <td>0x5857c96dae9cf8511b08cb07f85753c472d36ea3</td>\n      <td>18</td>\n    </tr>\n    <tr>\n      <th>25</th>\n      <td>dxct-dnaxcat</td>\n      <td>bnb</td>\n      <td>DXCT</td>\n      <td>0x5b1baec64af6dc54e6e04349315919129a6d3c23</td>\n      <td>18</td>\n    </tr>\n    <tr>\n      <th>26</th>\n      <td>sfo-starfish-os</td>\n      <td>bnb</td>\n      <td>SFO</td>\n      <td>0xc544d8ab2b5ed395b96e3ec87462801eca579ae1</td>\n      <td>18</td>\n    </tr>\n    <tr>\n      <th>27</th>\n      <td>baby-babyswap</td>\n      <td>bnb</td>\n      <td>BABY</td>\n      <td>0x53e562b9b7e5e94b81f10e96ee70ad06df3d2657</td>\n      <td>18</td>\n    </tr>\n    <tr>\n      <th>34</th>\n      <td>sfp-safepal-token</td>\n      <td>bnb</td>\n      <td>SFP</td>\n      <td>0xd41fdb03ba84762dd66a0af1a6c8540ff1ba5dfb</td>\n      <td>18</td>\n    </tr>\n    <tr>\n      <th>35</th>\n      <td>ssg-surviving-soldiers</td>\n      <td>bnb</td>\n      <td>SSG</td>\n      <td>0xa0c8c80ed6b7f09f885e826386440b2349f0da7e</td>\n      <td>18</td>\n    </tr>\n    <tr>\n      <th>36</th>\n      <td>bnx-binaryx</td>\n      <td>bnb</td>\n      <td>BNX</td>\n      <td>0x8c851d1a123ff703bd1f9dabe631b69902df5f97</td>\n      <td>18</td>\n    </tr>\n    <tr>\n      <th>37</th>\n      <td>elephant-elephant-money</td>\n      <td>bnb</td>\n      <td>ELEPHANT</td>\n      <td>0xe283d0e3b8c102badf5e8166b73e02d96d92f688</td>\n      <td>9</td>\n    </tr>\n    <tr>\n      <th>38</th>\n      <td>fist-fisttoken</td>\n      <td>bnb</td>\n      <td>FIST</td>\n      <td>0xc9882def23bc42d53895b8361d0b1edc7570bc6a</td>\n      <td>6</td>\n    </tr>\n    <tr>\n      <th>40</th>\n      <td>alpaca-alpaca-finance</td>\n      <td>bnb</td>\n      <td>ALPACA</td>\n      <td>0x8f0528ce5ef7b51152a59745befdd91d97091d2f</td>\n      <td>18</td>\n    </tr>\n    <tr>\n      <th>41</th>\n      <td>ppp-playposeidon-nft</td>\n      <td>bnb</td>\n      <td>PPP</td>\n      <td>0xce355300b9d7909f577640a3fb179cf911a23fbb</td>\n      <td>18</td>\n    </tr>\n    <tr>\n      <th>42</th>\n      <td>wirtual-wirtual</td>\n      <td>bnb</td>\n      <td>WIRTUAL</td>\n      <td>0xa19d3f4219e2ed6dc1cb595db20f70b8b6866734</td>\n      <td>18</td>\n    </tr>\n  </tbody>\n</table>\n</div>"
     },
     "execution_count": 119,
     "metadata": {},
     "output_type": "execute_result"
    }
   ],
   "source": [
    "# Legal tokens\n",
    "checking_token_df[~checking_token_df.token_id.isin(err1.token_id)][~checking_token_df.token_id.isin(err2.token_id)][~checking_token_df.token_id.isin(err3.token_id)]"
   ],
   "metadata": {
    "collapsed": false,
    "pycharm": {
     "name": "#%%\n"
    }
   }
  },
  {
   "cell_type": "code",
   "execution_count": null,
   "outputs": [],
   "source": [],
   "metadata": {
    "collapsed": false,
    "pycharm": {
     "name": "#%%\n"
    }
   }
  }
 ],
 "metadata": {
  "kernelspec": {
   "display_name": "Python 3 (ipykernel)",
   "language": "python",
   "name": "python3"
  },
  "language_info": {
   "codemirror_mode": {
    "name": "ipython",
    "version": 3
   },
   "file_extension": ".py",
   "mimetype": "text/x-python",
   "name": "python",
   "nbconvert_exporter": "python",
   "pygments_lexer": "ipython3",
   "version": "3.9.12"
  }
 },
 "nbformat": 4,
 "nbformat_minor": 5
}